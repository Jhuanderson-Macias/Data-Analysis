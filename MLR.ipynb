{
 "cells": [
  {
   "cell_type": "code",
   "execution_count": 1,
   "metadata": {},
   "outputs": [],
   "source": [
    "import pandas as pd\n",
    "import os\n",
    "import warnings\n",
    "warnings.filterwarnings(\"ignore\")"
   ]
  },
  {
   "cell_type": "code",
   "execution_count": 3,
   "metadata": {},
   "outputs": [],
   "source": [
    "import os\n",
    "os.getcwd()\n",
    "df=pd.read_csv(os.getcwd() + '/DataDemo.csv', encoding=\"latin1\")"
   ]
  },
  {
   "cell_type": "code",
   "execution_count": 5,
   "metadata": {},
   "outputs": [
    {
     "data": {
      "text/html": [
       "<div>\n",
       "<style scoped>\n",
       "    .dataframe tbody tr th:only-of-type {\n",
       "        vertical-align: middle;\n",
       "    }\n",
       "\n",
       "    .dataframe tbody tr th {\n",
       "        vertical-align: top;\n",
       "    }\n",
       "\n",
       "    .dataframe thead th {\n",
       "        text-align: right;\n",
       "    }\n",
       "</style>\n",
       "<table border=\"1\" class=\"dataframe\">\n",
       "  <thead>\n",
       "    <tr style=\"text-align: right;\">\n",
       "      <th></th>\n",
       "      <th>Sex</th>\n",
       "      <th>Quality</th>\n",
       "      <th>years</th>\n",
       "      <th>Division</th>\n",
       "      <th>Salary Increase</th>\n",
       "    </tr>\n",
       "  </thead>\n",
       "  <tbody>\n",
       "    <tr>\n",
       "      <th>0</th>\n",
       "      <td>F</td>\n",
       "      <td>10</td>\n",
       "      <td>9</td>\n",
       "      <td>Production</td>\n",
       "      <td>$21</td>\n",
       "    </tr>\n",
       "    <tr>\n",
       "      <th>1</th>\n",
       "      <td>F</td>\n",
       "      <td>90</td>\n",
       "      <td>1</td>\n",
       "      <td>Production</td>\n",
       "      <td>96</td>\n",
       "    </tr>\n",
       "    <tr>\n",
       "      <th>2</th>\n",
       "      <td>F</td>\n",
       "      <td>20</td>\n",
       "      <td>4</td>\n",
       "      <td>Production</td>\n",
       "      <td>47</td>\n",
       "    </tr>\n",
       "    <tr>\n",
       "      <th>3</th>\n",
       "      <td>F</td>\n",
       "      <td>80</td>\n",
       "      <td>1</td>\n",
       "      <td>Production</td>\n",
       "      <td>128</td>\n",
       "    </tr>\n",
       "    <tr>\n",
       "      <th>4</th>\n",
       "      <td>F</td>\n",
       "      <td>30</td>\n",
       "      <td>4</td>\n",
       "      <td>Research</td>\n",
       "      <td>64</td>\n",
       "    </tr>\n",
       "  </tbody>\n",
       "</table>\n",
       "</div>"
      ],
      "text/plain": [
       "  Sex  Quality  years    Division Salary Increase\n",
       "0   F       10      9  Production            $21 \n",
       "1   F       90      1  Production              96\n",
       "2   F       20      4  Production              47\n",
       "3   F       80      1  Production             128\n",
       "4   F       30      4    Research              64"
      ]
     },
     "execution_count": 5,
     "metadata": {},
     "output_type": "execute_result"
    }
   ],
   "source": [
    "df.head()"
   ]
  },
  {
   "cell_type": "markdown",
   "metadata": {},
   "source": [
    "# Encoding Categorical"
   ]
  },
  {
   "cell_type": "markdown",
   "metadata": {},
   "source": [
    "M -> 1\n",
    "F-> 0"
   ]
  },
  {
   "cell_type": "code",
   "execution_count": 57,
   "metadata": {},
   "outputs": [],
   "source": [
    "df['Sex'].replace(to_replace=dict(M=0, F=1), inplace=True)"
   ]
  },
  {
   "cell_type": "code",
   "execution_count": 58,
   "metadata": {},
   "outputs": [
    {
     "data": {
      "text/html": [
       "<div>\n",
       "<style scoped>\n",
       "    .dataframe tbody tr th:only-of-type {\n",
       "        vertical-align: middle;\n",
       "    }\n",
       "\n",
       "    .dataframe tbody tr th {\n",
       "        vertical-align: top;\n",
       "    }\n",
       "\n",
       "    .dataframe thead th {\n",
       "        text-align: right;\n",
       "    }\n",
       "</style>\n",
       "<table border=\"1\" class=\"dataframe\">\n",
       "  <thead>\n",
       "    <tr style=\"text-align: right;\">\n",
       "      <th></th>\n",
       "      <th>Sex</th>\n",
       "      <th>Quality</th>\n",
       "      <th>years</th>\n",
       "      <th>Division</th>\n",
       "      <th>Salary Increase</th>\n",
       "    </tr>\n",
       "  </thead>\n",
       "  <tbody>\n",
       "    <tr>\n",
       "      <th>0</th>\n",
       "      <td>1</td>\n",
       "      <td>10</td>\n",
       "      <td>9</td>\n",
       "      <td>Production</td>\n",
       "      <td>$21</td>\n",
       "    </tr>\n",
       "    <tr>\n",
       "      <th>1</th>\n",
       "      <td>1</td>\n",
       "      <td>90</td>\n",
       "      <td>1</td>\n",
       "      <td>Production</td>\n",
       "      <td>96</td>\n",
       "    </tr>\n",
       "    <tr>\n",
       "      <th>2</th>\n",
       "      <td>1</td>\n",
       "      <td>20</td>\n",
       "      <td>4</td>\n",
       "      <td>Production</td>\n",
       "      <td>47</td>\n",
       "    </tr>\n",
       "    <tr>\n",
       "      <th>3</th>\n",
       "      <td>1</td>\n",
       "      <td>80</td>\n",
       "      <td>1</td>\n",
       "      <td>Production</td>\n",
       "      <td>128</td>\n",
       "    </tr>\n",
       "    <tr>\n",
       "      <th>4</th>\n",
       "      <td>1</td>\n",
       "      <td>30</td>\n",
       "      <td>4</td>\n",
       "      <td>Research</td>\n",
       "      <td>64</td>\n",
       "    </tr>\n",
       "  </tbody>\n",
       "</table>\n",
       "</div>"
      ],
      "text/plain": [
       "   Sex  Quality  years    Division Salary Increase\n",
       "0    1       10      9  Production            $21 \n",
       "1    1       90      1  Production              96\n",
       "2    1       20      4  Production              47\n",
       "3    1       80      1  Production             128\n",
       "4    1       30      4    Research              64"
      ]
     },
     "execution_count": 58,
     "metadata": {},
     "output_type": "execute_result"
    }
   ],
   "source": [
    "df.head()"
   ]
  },
  {
   "cell_type": "code",
   "execution_count": 59,
   "metadata": {},
   "outputs": [],
   "source": [
    "\n",
    "import numpy as np\n",
    "from sklearn.linear_model import LinearRegression"
   ]
  },
  {
   "cell_type": "markdown",
   "metadata": {},
   "source": [
    "# Create Linear Regression model"
   ]
  },
  {
   "cell_type": "code",
   "execution_count": 60,
   "metadata": {},
   "outputs": [],
   "source": [
    "reg = LinearRegression()"
   ]
  },
  {
   "cell_type": "markdown",
   "metadata": {},
   "source": [
    "# organize Data"
   ]
  },
  {
   "cell_type": "code",
   "execution_count": 61,
   "metadata": {},
   "outputs": [
    {
     "name": "stdout",
     "output_type": "stream",
     "text": [
      "   Sex  Quality\n",
      "0    1       10\n",
      "1    1       90\n",
      "2    1       20\n",
      "3    1       80\n",
      "4    1       30\n",
      "  Salary Increase\n",
      "0            $21 \n",
      "1              96\n",
      "2              47\n",
      "3             128\n",
      "4              64\n"
     ]
    }
   ],
   "source": [
    "# Trying to predict Salary Increase\n",
    "# our independent variables are Sex and Quality\n",
    "\n",
    "data_train = df[['Sex','Quality']]\n",
    "print(data_train.head())\n",
    "\n",
    "data_train_predict = df[['Salary Increase']]\n",
    "print(data_train_predict.head())\n"
   ]
  },
  {
   "cell_type": "markdown",
   "metadata": {},
   "source": [
    "# Some data cleanning\n"
   ]
  },
  {
   "cell_type": "code",
   "execution_count": 62,
   "metadata": {},
   "outputs": [],
   "source": [
    "# convert Increase to number and convert to int\n",
    "data_train_predict['Salary Increase'] = data_train_predict['Salary Increase'].str.replace('$','').astype(int)\n",
    "df['Salary Increase'] = data_train_predict['Salary Increase']\n"
   ]
  },
  {
   "cell_type": "markdown",
   "metadata": {},
   "source": [
    "# Are our assumptions met"
   ]
  },
  {
   "cell_type": "code",
   "execution_count": 70,
   "metadata": {},
   "outputs": [
    {
     "data": {
      "image/png": "[encoded data removed]",
      "text/plain": [
       "<Figure size 432x432 with 9 Axes>"
      ]
     },
     "metadata": {},
     "output_type": "display_data"
    }
   ],
   "source": [
    " spm = pd.tools.plotting.scatter_matrix(df[['years','Quality','Salary Increase']], alpha=0.3, figsize=(6, 6), diagonal='hist')\n",
    "    "
   ]
  },
  {
   "cell_type": "code",
   "execution_count": 10,
   "metadata": {},
   "outputs": [
    {
     "data": {
      "text/plain": [
       "0     21\n",
       "1     96\n",
       "2     47\n",
       "3    128\n",
       "4     64\n",
       "Name: Salary Increase, dtype: int64"
      ]
     },
     "execution_count": 10,
     "metadata": {},
     "output_type": "execute_result"
    }
   ],
   "source": [
    "data_train_predict['Salary Increase'].head()"
   ]
  },
  {
   "cell_type": "markdown",
   "metadata": {},
   "source": [
    "\n",
    "# Fit the model -- input data"
   ]
  },
  {
   "cell_type": "code",
   "execution_count": 11,
   "metadata": {},
   "outputs": [],
   "source": [
    "Linear_model = reg.fit(data_train, data_train_predict)"
   ]
  },
  {
   "cell_type": "markdown",
   "metadata": {},
   "source": [
    "#  Calulate R^2"
   ]
  },
  {
   "cell_type": "code",
   "execution_count": 12,
   "metadata": {},
   "outputs": [
    {
     "data": {
      "text/plain": [
       "0.8340206949552456"
      ]
     },
     "execution_count": 12,
     "metadata": {},
     "output_type": "execute_result"
    }
   ],
   "source": [
    "Linear_model.score(data_train, data_train_predict)"
   ]
  },
  {
   "cell_type": "markdown",
   "metadata": {},
   "source": [
    "# Get equation"
   ]
  },
  {
   "cell_type": "code",
   "execution_count": 13,
   "metadata": {},
   "outputs": [
    {
     "name": "stdout",
     "output_type": "stream",
     "text": [
      " y = -233.28601164524207 * s + 2.2468903828303013q + 204.506089842761\n"
     ]
    }
   ],
   "source": [
    "sex = Linear_model.coef_[0][0]\n",
    "quality = Linear_model.coef_[0][1]\n",
    "b = Linear_model.intercept_[0]\n",
    "print(' y = {} * s + {}q + {}'.format(sex,quality, b))"
   ]
  },
  {
   "cell_type": "markdown",
   "metadata": {},
   "source": [
    "# Predict"
   ]
  },
  {
   "cell_type": "code",
   "execution_count": 14,
   "metadata": {},
   "outputs": [
    {
     "data": {
      "text/plain": [
       "array([[ -6.31101797],\n",
       "       [173.44021265],\n",
       "       [ 16.15788585],\n",
       "       [150.97130882],\n",
       "       [ 38.62678968],\n",
       "       [128.502405  ],\n",
       "       [ -6.31101797],\n",
       "       [  4.92343394],\n",
       "       [249.4438975 ],\n",
       "       [384.25732047],\n",
       "       [316.85060898],\n",
       "       [361.78841664],\n",
       "       [271.91280133],\n",
       "       [361.78841664],\n",
       "       [294.38170516],\n",
       "       [406.7262243 ],\n",
       "       [316.85060898]])"
      ]
     },
     "execution_count": 14,
     "metadata": {},
     "output_type": "execute_result"
    }
   ],
   "source": [
    "Linear_model.predict(data_train)"
   ]
  },
  {
   "cell_type": "markdown",
   "metadata": {},
   "source": [
    "#  Other way if looking for more stats -- will use this from now on"
   ]
  },
  {
   "cell_type": "code",
   "execution_count": 15,
   "metadata": {},
   "outputs": [
    {
     "name": "stderr",
     "output_type": "stream",
     "text": [
      "/Users/jmacias/anaconda3/lib/python3.6/site-packages/scipy/stats/stats.py:1394: UserWarning: kurtosistest only valid for n>=20 ... continuing anyway, n=17\n",
      "  \"anyway, n=%i\" % int(n))\n"
     ]
    },
    {
     "data": {
      "text/html": [
       "<table class=\"simpletable\">\n",
       "<caption>OLS Regression Results</caption>\n",
       "<tr>\n",
       "  <th>Dep. Variable:</th>     <td>Salary Increase</td> <th>  R-squared:         </th> <td>   0.834</td>\n",
       "</tr>\n",
       "<tr>\n",
       "  <th>Model:</th>                   <td>OLS</td>       <th>  Adj. R-squared:    </th> <td>   0.810</td>\n",
       "</tr>\n",
       "<tr>\n",
       "  <th>Method:</th>             <td>Least Squares</td>  <th>  F-statistic:       </th> <td>   35.17</td>\n",
       "</tr>\n",
       "<tr>\n",
       "  <th>Date:</th>             <td>Wed, 30 Jan 2019</td> <th>  Prob (F-statistic):</th> <td>3.47e-06</td>\n",
       "</tr>\n",
       "<tr>\n",
       "  <th>Time:</th>                 <td>11:52:23</td>     <th>  Log-Likelihood:    </th> <td> -95.156</td>\n",
       "</tr>\n",
       "<tr>\n",
       "  <th>No. Observations:</th>      <td>    17</td>      <th>  AIC:               </th> <td>   196.3</td>\n",
       "</tr>\n",
       "<tr>\n",
       "  <th>Df Residuals:</th>          <td>    14</td>      <th>  BIC:               </th> <td>   198.8</td>\n",
       "</tr>\n",
       "<tr>\n",
       "  <th>Df Model:</th>              <td>     2</td>      <th>                     </th>     <td> </td>   \n",
       "</tr>\n",
       "<tr>\n",
       "  <th>Covariance Type:</th>      <td>nonrobust</td>    <th>                     </th>     <td> </td>   \n",
       "</tr>\n",
       "</table>\n",
       "<table class=\"simpletable\">\n",
       "<tr>\n",
       "     <td></td>        <th>coef</th>     <th>std err</th>      <th>t</th>      <th>P>|t|</th>  <th>[0.025</th>    <th>0.975]</th>  \n",
       "</tr>\n",
       "<tr>\n",
       "  <th>const</th>   <td>  204.5061</td> <td>   43.220</td> <td>    4.732</td> <td> 0.000</td> <td>  111.808</td> <td>  297.205</td>\n",
       "</tr>\n",
       "<tr>\n",
       "  <th>Sex</th>     <td> -233.2860</td> <td>   36.259</td> <td>   -6.434</td> <td> 0.000</td> <td> -311.053</td> <td> -155.519</td>\n",
       "</tr>\n",
       "<tr>\n",
       "  <th>Quality</th> <td>    2.2469</td> <td>    0.647</td> <td>    3.471</td> <td> 0.004</td> <td>    0.859</td> <td>    3.635</td>\n",
       "</tr>\n",
       "</table>\n",
       "<table class=\"simpletable\">\n",
       "<tr>\n",
       "  <th>Omnibus:</th>       <td> 0.782</td> <th>  Durbin-Watson:     </th> <td>   2.261</td>\n",
       "</tr>\n",
       "<tr>\n",
       "  <th>Prob(Omnibus):</th> <td> 0.676</td> <th>  Jarque-Bera (JB):  </th> <td>   0.668</td>\n",
       "</tr>\n",
       "<tr>\n",
       "  <th>Skew:</th>          <td>-0.088</td> <th>  Prob(JB):          </th> <td>   0.716</td>\n",
       "</tr>\n",
       "<tr>\n",
       "  <th>Kurtosis:</th>      <td> 2.045</td> <th>  Cond. No.          </th> <td>    162.</td>\n",
       "</tr>\n",
       "</table><br/><br/>Warnings:<br/>[1] Standard Errors assume that the covariance matrix of the errors is correctly specified."
      ],
      "text/plain": [
       "<class 'statsmodels.iolib.summary.Summary'>\n",
       "\"\"\"\n",
       "                            OLS Regression Results                            \n",
       "==============================================================================\n",
       "Dep. Variable:        Salary Increase   R-squared:                       0.834\n",
       "Model:                            OLS   Adj. R-squared:                  0.810\n",
       "Method:                 Least Squares   F-statistic:                     35.17\n",
       "Date:                Wed, 30 Jan 2019   Prob (F-statistic):           3.47e-06\n",
       "Time:                        11:52:23   Log-Likelihood:                -95.156\n",
       "No. Observations:                  17   AIC:                             196.3\n",
       "Df Residuals:                      14   BIC:                             198.8\n",
       "Df Model:                           2                                         \n",
       "Covariance Type:            nonrobust                                         \n",
       "==============================================================================\n",
       "                 coef    std err          t      P>|t|      [0.025      0.975]\n",
       "------------------------------------------------------------------------------\n",
       "const        204.5061     43.220      4.732      0.000     111.808     297.205\n",
       "Sex         -233.2860     36.259     -6.434      0.000    -311.053    -155.519\n",
       "Quality        2.2469      0.647      3.471      0.004       0.859       3.635\n",
       "==============================================================================\n",
       "Omnibus:                        0.782   Durbin-Watson:                   2.261\n",
       "Prob(Omnibus):                  0.676   Jarque-Bera (JB):                0.668\n",
       "Skew:                          -0.088   Prob(JB):                        0.716\n",
       "Kurtosis:                       2.045   Cond. No.                         162.\n",
       "==============================================================================\n",
       "\n",
       "Warnings:\n",
       "[1] Standard Errors assume that the covariance matrix of the errors is correctly specified.\n",
       "\"\"\""
      ]
     },
     "execution_count": 15,
     "metadata": {},
     "output_type": "execute_result"
    }
   ],
   "source": [
    "import statsmodels.api as sm\n",
    "from scipy import stats\n",
    "\n",
    "# notice the difference in y ~ x rather than x~y\n",
    "# Unlike Skilearn - > OLS does not auto add a constant\n",
    "data_train_OLS_C = sm.add_constant(data_train)\n",
    "est = sm.OLS(data_train_predict, data_train_OLS_C)\n",
    "est2 = est.fit()\n",
    "est2.summary()"
   ]
  },
  {
   "cell_type": "code",
   "execution_count": 16,
   "metadata": {},
   "outputs": [],
   "source": [
    "data_train_predict['Pred'] = est2.predict(data_train_OLS_C)\n",
    "data_train_predict['res'] = data_train_predict['Salary Increase'] - data_train_predict['Pred']"
   ]
  },
  {
   "cell_type": "code",
   "execution_count": 17,
   "metadata": {},
   "outputs": [
    {
     "data": {
      "text/plain": [
       "<matplotlib.lines.Line2D at 0x1c1d63c5f8>"
      ]
     },
     "execution_count": 17,
     "metadata": {},
     "output_type": "execute_result"
    },
    {
     "data": {
      "image/png": "[encoded data removed]",
      "text/plain": [
       "<Figure size 432x288 with 1 Axes>"
      ]
     },
     "metadata": {},
     "output_type": "display_data"
    }
   ],
   "source": [
    "import matplotlib.pyplot as plt\n",
    "\n",
    "fig, ax = plt.subplots()\n",
    "ax.plot(data_train_predict['Pred'],data_train_predict['res'], 'x', label=\"Data\")\n",
    "ax.axhline(y=0,color='red')\n",
    "\n"
   ]
  },
  {
   "cell_type": "markdown",
   "metadata": {},
   "source": [
    "# More Features  - Number of years\n"
   ]
  },
  {
   "cell_type": "code",
   "execution_count": 18,
   "metadata": {},
   "outputs": [],
   "source": [
    "data_train_ex2 = df[['Sex','Quality','years']]\n",
    "data_train_predict_ex2 = data_train_predict[['Salary Increase']]"
   ]
  },
  {
   "cell_type": "code",
   "execution_count": 19,
   "metadata": {},
   "outputs": [
    {
     "name": "stderr",
     "output_type": "stream",
     "text": [
      "/Users/jmacias/anaconda3/lib/python3.6/site-packages/scipy/stats/stats.py:1394: UserWarning: kurtosistest only valid for n>=20 ... continuing anyway, n=17\n",
      "  \"anyway, n=%i\" % int(n))\n"
     ]
    },
    {
     "data": {
      "text/html": [
       "<table class=\"simpletable\">\n",
       "<caption>OLS Regression Results</caption>\n",
       "<tr>\n",
       "  <th>Dep. Variable:</th>     <td>Salary Increase</td> <th>  R-squared:         </th> <td>   0.847</td>\n",
       "</tr>\n",
       "<tr>\n",
       "  <th>Model:</th>                   <td>OLS</td>       <th>  Adj. R-squared:    </th> <td>   0.811</td>\n",
       "</tr>\n",
       "<tr>\n",
       "  <th>Method:</th>             <td>Least Squares</td>  <th>  F-statistic:       </th> <td>   23.91</td>\n",
       "</tr>\n",
       "<tr>\n",
       "  <th>Date:</th>             <td>Wed, 30 Jan 2019</td> <th>  Prob (F-statistic):</th> <td>1.45e-05</td>\n",
       "</tr>\n",
       "<tr>\n",
       "  <th>Time:</th>                 <td>11:52:41</td>     <th>  Log-Likelihood:    </th> <td> -94.487</td>\n",
       "</tr>\n",
       "<tr>\n",
       "  <th>No. Observations:</th>      <td>    17</td>      <th>  AIC:               </th> <td>   197.0</td>\n",
       "</tr>\n",
       "<tr>\n",
       "  <th>Df Residuals:</th>          <td>    13</td>      <th>  BIC:               </th> <td>   200.3</td>\n",
       "</tr>\n",
       "<tr>\n",
       "  <th>Df Model:</th>              <td>     3</td>      <th>                     </th>     <td> </td>   \n",
       "</tr>\n",
       "<tr>\n",
       "  <th>Covariance Type:</th>      <td>nonrobust</td>    <th>                     </th>     <td> </td>   \n",
       "</tr>\n",
       "</table>\n",
       "<table class=\"simpletable\">\n",
       "<tr>\n",
       "     <td></td>        <th>coef</th>     <th>std err</th>      <th>t</th>      <th>P>|t|</th>  <th>[0.025</th>    <th>0.975]</th>  \n",
       "</tr>\n",
       "<tr>\n",
       "  <th>const</th>   <td>  140.5724</td> <td>   75.505</td> <td>    1.862</td> <td> 0.085</td> <td>  -22.546</td> <td>  303.691</td>\n",
       "</tr>\n",
       "<tr>\n",
       "  <th>Sex</th>     <td> -219.2806</td> <td>   38.640</td> <td>   -5.675</td> <td> 0.000</td> <td> -302.757</td> <td> -135.804</td>\n",
       "</tr>\n",
       "<tr>\n",
       "  <th>Quality</th> <td>    2.6811</td> <td>    0.771</td> <td>    3.478</td> <td> 0.004</td> <td>    1.016</td> <td>    4.347</td>\n",
       "</tr>\n",
       "<tr>\n",
       "  <th>years</th>   <td>    8.3325</td> <td>    8.078</td> <td>    1.032</td> <td> 0.321</td> <td>   -9.119</td> <td>   25.784</td>\n",
       "</tr>\n",
       "</table>\n",
       "<table class=\"simpletable\">\n",
       "<tr>\n",
       "  <th>Omnibus:</th>       <td> 0.994</td> <th>  Durbin-Watson:     </th> <td>   2.208</td>\n",
       "</tr>\n",
       "<tr>\n",
       "  <th>Prob(Omnibus):</th> <td> 0.608</td> <th>  Jarque-Bera (JB):  </th> <td>   0.777</td>\n",
       "</tr>\n",
       "<tr>\n",
       "  <th>Skew:</th>          <td>-0.190</td> <th>  Prob(JB):          </th> <td>   0.678</td>\n",
       "</tr>\n",
       "<tr>\n",
       "  <th>Kurtosis:</th>      <td> 2.024</td> <th>  Cond. No.          </th> <td>    258.</td>\n",
       "</tr>\n",
       "</table><br/><br/>Warnings:<br/>[1] Standard Errors assume that the covariance matrix of the errors is correctly specified."
      ],
      "text/plain": [
       "<class 'statsmodels.iolib.summary.Summary'>\n",
       "\"\"\"\n",
       "                            OLS Regression Results                            \n",
       "==============================================================================\n",
       "Dep. Variable:        Salary Increase   R-squared:                       0.847\n",
       "Model:                            OLS   Adj. R-squared:                  0.811\n",
       "Method:                 Least Squares   F-statistic:                     23.91\n",
       "Date:                Wed, 30 Jan 2019   Prob (F-statistic):           1.45e-05\n",
       "Time:                        11:52:41   Log-Likelihood:                -94.487\n",
       "No. Observations:                  17   AIC:                             197.0\n",
       "Df Residuals:                      13   BIC:                             200.3\n",
       "Df Model:                           3                                         \n",
       "Covariance Type:            nonrobust                                         \n",
       "==============================================================================\n",
       "                 coef    std err          t      P>|t|      [0.025      0.975]\n",
       "------------------------------------------------------------------------------\n",
       "const        140.5724     75.505      1.862      0.085     -22.546     303.691\n",
       "Sex         -219.2806     38.640     -5.675      0.000    -302.757    -135.804\n",
       "Quality        2.6811      0.771      3.478      0.004       1.016       4.347\n",
       "years          8.3325      8.078      1.032      0.321      -9.119      25.784\n",
       "==============================================================================\n",
       "Omnibus:                        0.994   Durbin-Watson:                   2.208\n",
       "Prob(Omnibus):                  0.608   Jarque-Bera (JB):                0.777\n",
       "Skew:                          -0.190   Prob(JB):                        0.678\n",
       "Kurtosis:                       2.024   Cond. No.                         258.\n",
       "==============================================================================\n",
       "\n",
       "Warnings:\n",
       "[1] Standard Errors assume that the covariance matrix of the errors is correctly specified.\n",
       "\"\"\""
      ]
     },
     "execution_count": 19,
     "metadata": {},
     "output_type": "execute_result"
    }
   ],
   "source": [
    "# Get R^2\n",
    "data_train_OLS_C2 = sm.add_constant(data_train_ex2)\n",
    "est = sm.OLS(data_train_predict_ex2, data_train_OLS_C2)\n",
    "est2 = est.fit()\n",
    "est2.summary()\n"
   ]
  },
  {
   "cell_type": "markdown",
   "metadata": {},
   "source": [
    "R^2 vs P-Values"
   ]
  },
  {
   "cell_type": "code",
   "execution_count": 21,
   "metadata": {},
   "outputs": [
    {
     "data": {
      "text/plain": [
       "<matplotlib.lines.Line2D at 0x1c1e1e4f60>"
      ]
     },
     "execution_count": 21,
     "metadata": {},
     "output_type": "execute_result"
    },
    {
     "data": {
      "image/png": "[encoded data removed]",
      "text/plain": [
       "<Figure size 432x288 with 1 Axes>"
      ]
     },
     "metadata": {},
     "output_type": "display_data"
    }
   ],
   "source": [
    "data_train_predict_ex2['Pred'] = est2.predict(data_train_OLS_C2)\n",
    "data_train_predict_ex2['res'] = data_train_predict_ex2['Salary Increase'] - data_train_predict_ex2['Pred']\n",
    "\n",
    "fig, ax = plt.subplots()\n",
    "ax.plot(data_train_predict_ex2['Pred'],data_train_predict_ex2['res'], 'x', label=\"Data\")\n",
    "ax.axhline(y=0,color='red')\n"
   ]
  },
  {
   "cell_type": "markdown",
   "metadata": {},
   "source": [
    "# Adding Dummy Variables!"
   ]
  },
  {
   "cell_type": "code",
   "execution_count": 22,
   "metadata": {},
   "outputs": [
    {
     "data": {
      "text/plain": [
       "0     Production\n",
       "1     Production\n",
       "2     Production\n",
       "3     Production\n",
       "4       Research\n",
       "5       Research\n",
       "6          Sales\n",
       "7     Production\n",
       "8       Research\n",
       "9          Sales\n",
       "10      Research\n",
       "11         Sales\n",
       "12         Sales\n",
       "13         Sales\n",
       "14         Sales\n",
       "15    Production\n",
       "16    Production\n",
       "Name: Division, dtype: object"
      ]
     },
     "execution_count": 22,
     "metadata": {},
     "output_type": "execute_result"
    }
   ],
   "source": [
    "df['Division']"
   ]
  },
  {
   "cell_type": "code",
   "execution_count": 23,
   "metadata": {},
   "outputs": [
    {
     "data": {
      "text/html": [
       "<div>\n",
       "<style scoped>\n",
       "    .dataframe tbody tr th:only-of-type {\n",
       "        vertical-align: middle;\n",
       "    }\n",
       "\n",
       "    .dataframe tbody tr th {\n",
       "        vertical-align: top;\n",
       "    }\n",
       "\n",
       "    .dataframe thead th {\n",
       "        text-align: right;\n",
       "    }\n",
       "</style>\n",
       "<table border=\"1\" class=\"dataframe\">\n",
       "  <thead>\n",
       "    <tr style=\"text-align: right;\">\n",
       "      <th></th>\n",
       "      <th>Production</th>\n",
       "      <th>Research</th>\n",
       "      <th>Sales</th>\n",
       "    </tr>\n",
       "  </thead>\n",
       "  <tbody>\n",
       "    <tr>\n",
       "      <th>0</th>\n",
       "      <td>1</td>\n",
       "      <td>0</td>\n",
       "      <td>0</td>\n",
       "    </tr>\n",
       "    <tr>\n",
       "      <th>1</th>\n",
       "      <td>1</td>\n",
       "      <td>0</td>\n",
       "      <td>0</td>\n",
       "    </tr>\n",
       "    <tr>\n",
       "      <th>2</th>\n",
       "      <td>1</td>\n",
       "      <td>0</td>\n",
       "      <td>0</td>\n",
       "    </tr>\n",
       "    <tr>\n",
       "      <th>3</th>\n",
       "      <td>1</td>\n",
       "      <td>0</td>\n",
       "      <td>0</td>\n",
       "    </tr>\n",
       "    <tr>\n",
       "      <th>4</th>\n",
       "      <td>0</td>\n",
       "      <td>1</td>\n",
       "      <td>0</td>\n",
       "    </tr>\n",
       "  </tbody>\n",
       "</table>\n",
       "</div>"
      ],
      "text/plain": [
       "   Production  Research  Sales\n",
       "0           1         0      0\n",
       "1           1         0      0\n",
       "2           1         0      0\n",
       "3           1         0      0\n",
       "4           0         1      0"
      ]
     },
     "execution_count": 23,
     "metadata": {},
     "output_type": "execute_result"
    }
   ],
   "source": [
    "pd.get_dummies(df['Division']).head()"
   ]
  },
  {
   "cell_type": "markdown",
   "metadata": {},
   "source": [
    "It is good practice to drop one dummy colum"
   ]
  },
  {
   "cell_type": "code",
   "execution_count": 24,
   "metadata": {},
   "outputs": [
    {
     "data": {
      "text/html": [
       "<div>\n",
       "<style scoped>\n",
       "    .dataframe tbody tr th:only-of-type {\n",
       "        vertical-align: middle;\n",
       "    }\n",
       "\n",
       "    .dataframe tbody tr th {\n",
       "        vertical-align: top;\n",
       "    }\n",
       "\n",
       "    .dataframe thead th {\n",
       "        text-align: right;\n",
       "    }\n",
       "</style>\n",
       "<table border=\"1\" class=\"dataframe\">\n",
       "  <thead>\n",
       "    <tr style=\"text-align: right;\">\n",
       "      <th></th>\n",
       "      <th>Sex</th>\n",
       "      <th>Quality</th>\n",
       "      <th>years</th>\n",
       "      <th>Salary Increase</th>\n",
       "      <th>Research</th>\n",
       "      <th>Sales</th>\n",
       "    </tr>\n",
       "  </thead>\n",
       "  <tbody>\n",
       "    <tr>\n",
       "      <th>0</th>\n",
       "      <td>1</td>\n",
       "      <td>10</td>\n",
       "      <td>9</td>\n",
       "      <td>$21</td>\n",
       "      <td>0</td>\n",
       "      <td>0</td>\n",
       "    </tr>\n",
       "    <tr>\n",
       "      <th>1</th>\n",
       "      <td>1</td>\n",
       "      <td>90</td>\n",
       "      <td>1</td>\n",
       "      <td>96</td>\n",
       "      <td>0</td>\n",
       "      <td>0</td>\n",
       "    </tr>\n",
       "    <tr>\n",
       "      <th>2</th>\n",
       "      <td>1</td>\n",
       "      <td>20</td>\n",
       "      <td>4</td>\n",
       "      <td>47</td>\n",
       "      <td>0</td>\n",
       "      <td>0</td>\n",
       "    </tr>\n",
       "    <tr>\n",
       "      <th>3</th>\n",
       "      <td>1</td>\n",
       "      <td>80</td>\n",
       "      <td>1</td>\n",
       "      <td>128</td>\n",
       "      <td>0</td>\n",
       "      <td>0</td>\n",
       "    </tr>\n",
       "    <tr>\n",
       "      <th>4</th>\n",
       "      <td>1</td>\n",
       "      <td>30</td>\n",
       "      <td>4</td>\n",
       "      <td>64</td>\n",
       "      <td>1</td>\n",
       "      <td>0</td>\n",
       "    </tr>\n",
       "  </tbody>\n",
       "</table>\n",
       "</div>"
      ],
      "text/plain": [
       "   Sex  Quality  years Salary Increase  Research  Sales\n",
       "0    1       10      9            $21          0      0\n",
       "1    1       90      1              96         0      0\n",
       "2    1       20      4              47         0      0\n",
       "3    1       80      1             128         0      0\n",
       "4    1       30      4              64         1      0"
      ]
     },
     "execution_count": 24,
     "metadata": {},
     "output_type": "execute_result"
    }
   ],
   "source": [
    "df_dummies = pd.concat([df, pd.get_dummies(df['Division'], drop_first=True)], axis=1)\n",
    "df_dummies.drop(columns=['Division'], axis=1, inplace=True)\n",
    "df_dummies.head()"
   ]
  },
  {
   "cell_type": "code",
   "execution_count": 78,
   "metadata": {},
   "outputs": [],
   "source": [
    "data_train_ex3 = df_dummies[['Sex','Quality','years','Research','Sales']]\n",
    "data_train_predict_ex3 = data_train_predict[['Salary Increase']]"
   ]
  },
  {
   "cell_type": "code",
   "execution_count": 81,
   "metadata": {},
   "outputs": [
    {
     "data": {
      "text/html": [
       "<table class=\"simpletable\">\n",
       "<caption>OLS Regression Results</caption>\n",
       "<tr>\n",
       "  <th>Dep. Variable:</th>     <td>Salary Increase</td> <th>  R-squared:         </th> <td>   0.858</td>\n",
       "</tr>\n",
       "<tr>\n",
       "  <th>Model:</th>                   <td>OLS</td>       <th>  Adj. R-squared:    </th> <td>   0.794</td>\n",
       "</tr>\n",
       "<tr>\n",
       "  <th>Method:</th>             <td>Least Squares</td>  <th>  F-statistic:       </th> <td>   13.32</td>\n",
       "</tr>\n",
       "<tr>\n",
       "  <th>Date:</th>             <td>Wed, 30 Jan 2019</td> <th>  Prob (F-statistic):</th> <td>0.000235</td>\n",
       "</tr>\n",
       "<tr>\n",
       "  <th>Time:</th>                 <td>13:18:57</td>     <th>  Log-Likelihood:    </th> <td> -93.818</td>\n",
       "</tr>\n",
       "<tr>\n",
       "  <th>No. Observations:</th>      <td>    17</td>      <th>  AIC:               </th> <td>   199.6</td>\n",
       "</tr>\n",
       "<tr>\n",
       "  <th>Df Residuals:</th>          <td>    11</td>      <th>  BIC:               </th> <td>   204.6</td>\n",
       "</tr>\n",
       "<tr>\n",
       "  <th>Df Model:</th>              <td>     5</td>      <th>                     </th>     <td> </td>   \n",
       "</tr>\n",
       "<tr>\n",
       "  <th>Covariance Type:</th>      <td>nonrobust</td>    <th>                     </th>     <td> </td>   \n",
       "</tr>\n",
       "</table>\n",
       "<table class=\"simpletable\">\n",
       "<tr>\n",
       "      <td></td>        <th>coef</th>     <th>std err</th>      <th>t</th>      <th>P>|t|</th>  <th>[0.025</th>    <th>0.975]</th>  \n",
       "</tr>\n",
       "<tr>\n",
       "  <th>const</th>    <td>  201.0194</td> <td>  122.442</td> <td>    1.642</td> <td> 0.129</td> <td>  -68.473</td> <td>  470.512</td>\n",
       "</tr>\n",
       "<tr>\n",
       "  <th>Sex</th>      <td> -234.9241</td> <td>   53.115</td> <td>   -4.423</td> <td> 0.001</td> <td> -351.830</td> <td> -118.018</td>\n",
       "</tr>\n",
       "<tr>\n",
       "  <th>Quality</th>  <td>    2.3456</td> <td>    0.933</td> <td>    2.513</td> <td> 0.029</td> <td>    0.291</td> <td>    4.400</td>\n",
       "</tr>\n",
       "<tr>\n",
       "  <th>years</th>    <td>    4.2444</td> <td>   10.276</td> <td>    0.413</td> <td> 0.688</td> <td>  -18.372</td> <td>   26.861</td>\n",
       "</tr>\n",
       "<tr>\n",
       "  <th>Research</th> <td>  -51.6005</td> <td>   56.359</td> <td>   -0.916</td> <td> 0.380</td> <td> -175.645</td> <td>   72.444</td>\n",
       "</tr>\n",
       "<tr>\n",
       "  <th>Sales</th>    <td>  -19.4561</td> <td>   56.102</td> <td>   -0.347</td> <td> 0.735</td> <td> -142.935</td> <td>  104.023</td>\n",
       "</tr>\n",
       "</table>\n",
       "<table class=\"simpletable\">\n",
       "<tr>\n",
       "  <th>Omnibus:</th>       <td> 1.620</td> <th>  Durbin-Watson:     </th> <td>   2.071</td>\n",
       "</tr>\n",
       "<tr>\n",
       "  <th>Prob(Omnibus):</th> <td> 0.445</td> <th>  Jarque-Bera (JB):  </th> <td>   0.895</td>\n",
       "</tr>\n",
       "<tr>\n",
       "  <th>Skew:</th>          <td>-0.015</td> <th>  Prob(JB):          </th> <td>   0.639</td>\n",
       "</tr>\n",
       "<tr>\n",
       "  <th>Kurtosis:</th>      <td> 1.876</td> <th>  Cond. No.          </th> <td>    438.</td>\n",
       "</tr>\n",
       "</table><br/><br/>Warnings:<br/>[1] Standard Errors assume that the covariance matrix of the errors is correctly specified."
      ],
      "text/plain": [
       "<class 'statsmodels.iolib.summary.Summary'>\n",
       "\"\"\"\n",
       "                            OLS Regression Results                            \n",
       "==============================================================================\n",
       "Dep. Variable:        Salary Increase   R-squared:                       0.858\n",
       "Model:                            OLS   Adj. R-squared:                  0.794\n",
       "Method:                 Least Squares   F-statistic:                     13.32\n",
       "Date:                Wed, 30 Jan 2019   Prob (F-statistic):           0.000235\n",
       "Time:                        13:18:57   Log-Likelihood:                -93.818\n",
       "No. Observations:                  17   AIC:                             199.6\n",
       "Df Residuals:                      11   BIC:                             204.6\n",
       "Df Model:                           5                                         \n",
       "Covariance Type:            nonrobust                                         \n",
       "==============================================================================\n",
       "                 coef    std err          t      P>|t|      [0.025      0.975]\n",
       "------------------------------------------------------------------------------\n",
       "const        201.0194    122.442      1.642      0.129     -68.473     470.512\n",
       "Sex         -234.9241     53.115     -4.423      0.001    -351.830    -118.018\n",
       "Quality        2.3456      0.933      2.513      0.029       0.291       4.400\n",
       "years          4.2444     10.276      0.413      0.688     -18.372      26.861\n",
       "Research     -51.6005     56.359     -0.916      0.380    -175.645      72.444\n",
       "Sales        -19.4561     56.102     -0.347      0.735    -142.935     104.023\n",
       "==============================================================================\n",
       "Omnibus:                        1.620   Durbin-Watson:                   2.071\n",
       "Prob(Omnibus):                  0.445   Jarque-Bera (JB):                0.895\n",
       "Skew:                          -0.015   Prob(JB):                        0.639\n",
       "Kurtosis:                       1.876   Cond. No.                         438.\n",
       "==============================================================================\n",
       "\n",
       "Warnings:\n",
       "[1] Standard Errors assume that the covariance matrix of the errors is correctly specified.\n",
       "\"\"\""
      ]
     },
     "execution_count": 81,
     "metadata": {},
     "output_type": "execute_result"
    }
   ],
   "source": [
    "# Get R^2\n",
    "data_train_OLS_C3 = sm.add_constant(data_train_ex3)\n",
    "est = sm.OLS(data_train_predict_ex3, data_train_OLS_C3)\n",
    "est2 = est.fit()\n",
    "est2.summary()"
   ]
  },
  {
   "cell_type": "code",
   "execution_count": 82,
   "metadata": {},
   "outputs": [
    {
     "data": {
      "text/plain": [
       "<matplotlib.lines.Line2D at 0x1c1f0a6d30>"
      ]
     },
     "execution_count": 82,
     "metadata": {},
     "output_type": "execute_result"
    },
    {
     "data": {
      "image/png": "[encoded data removed]",
      "text/plain": [
       "<Figure size 432x288 with 1 Axes>"
      ]
     },
     "metadata": {},
     "output_type": "display_data"
    }
   ],
   "source": [
    "data_train_predict_ex3['Pred'] = est2.predict(data_train_OLS_C3)\n",
    "data_train_predict_ex3['res'] = data_train_predict_ex3['Salary Increase'] - data_train_predict_ex3['Pred']\n",
    "\n",
    "fig, ax = plt.subplots()\n",
    "ax.plot(data_train_predict_ex3['Pred'],data_train_predict_ex3['res'], 'x', label=\"Data\")\n",
    "ax.axhline(y=0,color='red')\n"
   ]
  },
  {
   "cell_type": "code",
   "execution_count": 28,
   "metadata": {},
   "outputs": [],
   "source": [
    "from sklearn import preprocessing"
   ]
  },
  {
   "cell_type": "code",
   "execution_count": 35,
   "metadata": {},
   "outputs": [
    {
     "data": {
      "text/html": [
       "<div>\n",
       "<style scoped>\n",
       "    .dataframe tbody tr th:only-of-type {\n",
       "        vertical-align: middle;\n",
       "    }\n",
       "\n",
       "    .dataframe tbody tr th {\n",
       "        vertical-align: top;\n",
       "    }\n",
       "\n",
       "    .dataframe thead th {\n",
       "        text-align: right;\n",
       "    }\n",
       "</style>\n",
       "<table border=\"1\" class=\"dataframe\">\n",
       "  <thead>\n",
       "    <tr style=\"text-align: right;\">\n",
       "      <th></th>\n",
       "      <th>Sex</th>\n",
       "      <th>Quality</th>\n",
       "      <th>years</th>\n",
       "      <th>Research</th>\n",
       "      <th>Sales</th>\n",
       "    </tr>\n",
       "  </thead>\n",
       "  <tbody>\n",
       "    <tr>\n",
       "      <th>0</th>\n",
       "      <td>1</td>\n",
       "      <td>0.000</td>\n",
       "      <td>1.000</td>\n",
       "      <td>0</td>\n",
       "      <td>0</td>\n",
       "    </tr>\n",
       "    <tr>\n",
       "      <th>1</th>\n",
       "      <td>1</td>\n",
       "      <td>1.000</td>\n",
       "      <td>0.000</td>\n",
       "      <td>0</td>\n",
       "      <td>0</td>\n",
       "    </tr>\n",
       "    <tr>\n",
       "      <th>2</th>\n",
       "      <td>1</td>\n",
       "      <td>0.125</td>\n",
       "      <td>0.375</td>\n",
       "      <td>0</td>\n",
       "      <td>0</td>\n",
       "    </tr>\n",
       "    <tr>\n",
       "      <th>3</th>\n",
       "      <td>1</td>\n",
       "      <td>0.875</td>\n",
       "      <td>0.000</td>\n",
       "      <td>0</td>\n",
       "      <td>0</td>\n",
       "    </tr>\n",
       "    <tr>\n",
       "      <th>4</th>\n",
       "      <td>1</td>\n",
       "      <td>0.250</td>\n",
       "      <td>0.375</td>\n",
       "      <td>1</td>\n",
       "      <td>0</td>\n",
       "    </tr>\n",
       "  </tbody>\n",
       "</table>\n",
       "</div>"
      ],
      "text/plain": [
       "   Sex  Quality  years  Research  Sales\n",
       "0    1    0.000  1.000         0      0\n",
       "1    1    1.000  0.000         0      0\n",
       "2    1    0.125  0.375         0      0\n",
       "3    1    0.875  0.000         0      0\n",
       "4    1    0.250  0.375         1      0"
      ]
     },
     "execution_count": 35,
     "metadata": {},
     "output_type": "execute_result"
    }
   ],
   "source": [
    "min_max_scaler = preprocessing.MinMaxScaler()\n",
    "#min_max_scaler takes series that is ir organized as followed [[3,4,5]].\n",
    "data_train_ex3['Quality'] = min_max_scaler.fit_transform(data_train_ex3['Quality'].values.reshape(-1,1))\n",
    "data_train_ex3['years'] = min_max_scaler.fit_transform(data_train_ex3['years'].values.reshape(-1,1))\n",
    "data_train_ex3.head()\n"
   ]
  },
  {
   "cell_type": "markdown",
   "metadata": {},
   "source": [
    "# Redo regression"
   ]
  },
  {
   "cell_type": "code",
   "execution_count": 42,
   "metadata": {},
   "outputs": [
    {
     "data": {
      "text/html": [
       "<table class=\"simpletable\">\n",
       "<caption>OLS Regression Results</caption>\n",
       "<tr>\n",
       "  <th>Dep. Variable:</th>     <td>Salary Increase</td> <th>  R-squared:         </th> <td>   0.858</td>\n",
       "</tr>\n",
       "<tr>\n",
       "  <th>Model:</th>                   <td>OLS</td>       <th>  Adj. R-squared:    </th> <td>   0.794</td>\n",
       "</tr>\n",
       "<tr>\n",
       "  <th>Method:</th>             <td>Least Squares</td>  <th>  F-statistic:       </th> <td>   13.32</td>\n",
       "</tr>\n",
       "<tr>\n",
       "  <th>Date:</th>             <td>Wed, 30 Jan 2019</td> <th>  Prob (F-statistic):</th> <td>0.000235</td>\n",
       "</tr>\n",
       "<tr>\n",
       "  <th>Time:</th>                 <td>11:59:59</td>     <th>  Log-Likelihood:    </th> <td> -93.818</td>\n",
       "</tr>\n",
       "<tr>\n",
       "  <th>No. Observations:</th>      <td>    17</td>      <th>  AIC:               </th> <td>   199.6</td>\n",
       "</tr>\n",
       "<tr>\n",
       "  <th>Df Residuals:</th>          <td>    11</td>      <th>  BIC:               </th> <td>   204.6</td>\n",
       "</tr>\n",
       "<tr>\n",
       "  <th>Df Model:</th>              <td>     5</td>      <th>                     </th>     <td> </td>   \n",
       "</tr>\n",
       "<tr>\n",
       "  <th>Covariance Type:</th>      <td>nonrobust</td>    <th>                     </th>     <td> </td>   \n",
       "</tr>\n",
       "</table>\n",
       "<table class=\"simpletable\">\n",
       "<tr>\n",
       "      <td></td>        <th>coef</th>     <th>std err</th>      <th>t</th>      <th>P>|t|</th>  <th>[0.025</th>    <th>0.975]</th>  \n",
       "</tr>\n",
       "<tr>\n",
       "  <th>const</th>    <td>  228.7198</td> <td>  105.700</td> <td>    2.164</td> <td> 0.053</td> <td>   -3.925</td> <td>  461.364</td>\n",
       "</tr>\n",
       "<tr>\n",
       "  <th>Sex</th>      <td> -234.9241</td> <td>   53.115</td> <td>   -4.423</td> <td> 0.001</td> <td> -351.830</td> <td> -118.018</td>\n",
       "</tr>\n",
       "<tr>\n",
       "  <th>Quality</th>  <td>  187.6474</td> <td>   74.675</td> <td>    2.513</td> <td> 0.029</td> <td>   23.288</td> <td>  352.007</td>\n",
       "</tr>\n",
       "<tr>\n",
       "  <th>years</th>    <td>   33.9554</td> <td>   82.205</td> <td>    0.413</td> <td> 0.688</td> <td> -146.977</td> <td>  214.888</td>\n",
       "</tr>\n",
       "<tr>\n",
       "  <th>Research</th> <td>  -51.6005</td> <td>   56.359</td> <td>   -0.916</td> <td> 0.380</td> <td> -175.645</td> <td>   72.444</td>\n",
       "</tr>\n",
       "<tr>\n",
       "  <th>Sales</th>    <td>  -19.4561</td> <td>   56.102</td> <td>   -0.347</td> <td> 0.735</td> <td> -142.935</td> <td>  104.023</td>\n",
       "</tr>\n",
       "</table>\n",
       "<table class=\"simpletable\">\n",
       "<tr>\n",
       "  <th>Omnibus:</th>       <td> 1.620</td> <th>  Durbin-Watson:     </th> <td>   2.071</td>\n",
       "</tr>\n",
       "<tr>\n",
       "  <th>Prob(Omnibus):</th> <td> 0.445</td> <th>  Jarque-Bera (JB):  </th> <td>   0.895</td>\n",
       "</tr>\n",
       "<tr>\n",
       "  <th>Skew:</th>          <td>-0.015</td> <th>  Prob(JB):          </th> <td>   0.639</td>\n",
       "</tr>\n",
       "<tr>\n",
       "  <th>Kurtosis:</th>      <td> 1.876</td> <th>  Cond. No.          </th> <td>    11.8</td>\n",
       "</tr>\n",
       "</table><br/><br/>Warnings:<br/>[1] Standard Errors assume that the covariance matrix of the errors is correctly specified."
      ],
      "text/plain": [
       "<class 'statsmodels.iolib.summary.Summary'>\n",
       "\"\"\"\n",
       "                            OLS Regression Results                            \n",
       "==============================================================================\n",
       "Dep. Variable:        Salary Increase   R-squared:                       0.858\n",
       "Model:                            OLS   Adj. R-squared:                  0.794\n",
       "Method:                 Least Squares   F-statistic:                     13.32\n",
       "Date:                Wed, 30 Jan 2019   Prob (F-statistic):           0.000235\n",
       "Time:                        11:59:59   Log-Likelihood:                -93.818\n",
       "No. Observations:                  17   AIC:                             199.6\n",
       "Df Residuals:                      11   BIC:                             204.6\n",
       "Df Model:                           5                                         \n",
       "Covariance Type:            nonrobust                                         \n",
       "==============================================================================\n",
       "                 coef    std err          t      P>|t|      [0.025      0.975]\n",
       "------------------------------------------------------------------------------\n",
       "const        228.7198    105.700      2.164      0.053      -3.925     461.364\n",
       "Sex         -234.9241     53.115     -4.423      0.001    -351.830    -118.018\n",
       "Quality      187.6474     74.675      2.513      0.029      23.288     352.007\n",
       "years         33.9554     82.205      0.413      0.688    -146.977     214.888\n",
       "Research     -51.6005     56.359     -0.916      0.380    -175.645      72.444\n",
       "Sales        -19.4561     56.102     -0.347      0.735    -142.935     104.023\n",
       "==============================================================================\n",
       "Omnibus:                        1.620   Durbin-Watson:                   2.071\n",
       "Prob(Omnibus):                  0.445   Jarque-Bera (JB):                0.895\n",
       "Skew:                          -0.015   Prob(JB):                        0.639\n",
       "Kurtosis:                       1.876   Cond. No.                         11.8\n",
       "==============================================================================\n",
       "\n",
       "Warnings:\n",
       "[1] Standard Errors assume that the covariance matrix of the errors is correctly specified.\n",
       "\"\"\""
      ]
     },
     "execution_count": 42,
     "metadata": {},
     "output_type": "execute_result"
    }
   ],
   "source": [
    "data_train_predict_ex3 = data_train_predict[['Salary Increase']]\n",
    "# Get R^2\n",
    "data_train_OLS_C3 = sm.add_constant(data_train_ex3)\n",
    "est = sm.OLS(data_train_predict_ex3, data_train_OLS_C3)\n",
    "est2 = est.fit()\n",
    "est2.summary()"
   ]
  },
  {
   "cell_type": "code",
   "execution_count": null,
   "metadata": {},
   "outputs": [],
   "source": []
  }
 ],
 "metadata": {
  "kernelspec": {
   "display_name": "Python 3",
   "language": "python",
   "name": "python3"
  },
  "language_info": {
   "codemirror_mode": {
    "name": "ipython",
    "version": 3
   },
   "file_extension": ".py",
   "mimetype": "text/x-python",
   "name": "python",
   "nbconvert_exporter": "python",
   "pygments_lexer": "ipython3",
   "version": "3.6.5"
  }
 },
 "nbformat": 4,
 "nbformat_minor": 2
}
