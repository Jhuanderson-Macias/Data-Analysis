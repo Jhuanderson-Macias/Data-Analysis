{
 "cells": [
  {
   "cell_type": "markdown",
   "metadata": {},
   "source": [
    "# Importing The Data"
   ]
  },
  {
   "cell_type": "code",
   "execution_count": 53,
   "metadata": {},
   "outputs": [],
   "source": [
    "import pandas as pd\n",
    "from IPython.display import display\n",
    "import warnings\n",
    "warnings.filterwarnings(\"ignore\")\n",
    "data = pd.read_csv(\"https://media.githubusercontent.com/media/MuseumofModernArt/collection/master/Artworks.csv\")"
   ]
  },
  {
   "cell_type": "markdown",
   "metadata": {},
   "source": [
    "For Purposes of this assignment will only be working with the following columns\n",
    "\n",
    "#Title - The title of the artwork\n",
    "#Artist - The name of the artist who created the artwork\n",
    "#Nationality - The nationality of the artist\n",
    "#BeginDate - The year in which the artist was born\n",
    "#EndDate - The year in which the artist died\n",
    "#Gender - The gender of the artist\n",
    "#Date - The date that the artwork was created\n",
    "#Department - The department inside MoMA that the artwork belongs to"
   ]
  },
  {
   "cell_type": "code",
   "execution_count": 54,
   "metadata": {},
   "outputs": [
    {
     "name": "stdout",
     "output_type": "stream",
     "text": [
      "Date has 136531 rows and 8 columns\n"
     ]
    }
   ],
   "source": [
    "data = data[['Title','Artist','Nationality','BeginDate','EndDate','Gender','Date','Department']]\n",
    "print(\"Date has {} rows and {} columns\".format(data.shape[0], data.shape[1]))"
   ]
  },
  {
   "cell_type": "markdown",
   "metadata": {},
   "source": [
    "# Preview Data"
   ]
  },
  {
   "cell_type": "code",
   "execution_count": 55,
   "metadata": {},
   "outputs": [
    {
     "name": "stdout",
     "output_type": "stream",
     "text": [
      "Date has 136531 rows and 8 columns\n"
     ]
    }
   ],
   "source": [
    "print(\"Date has {} rows and {} columns\".format(data.shape[0], data.shape[1]))"
   ]
  },
  {
   "cell_type": "code",
   "execution_count": 56,
   "metadata": {},
   "outputs": [
    {
     "data": {
      "text/html": [
       "<div>\n",
       "<style scoped>\n",
       "    .dataframe tbody tr th:only-of-type {\n",
       "        vertical-align: middle;\n",
       "    }\n",
       "\n",
       "    .dataframe tbody tr th {\n",
       "        vertical-align: top;\n",
       "    }\n",
       "\n",
       "    .dataframe thead th {\n",
       "        text-align: right;\n",
       "    }\n",
       "</style>\n",
       "<table border=\"1\" class=\"dataframe\">\n",
       "  <thead>\n",
       "    <tr style=\"text-align: right;\">\n",
       "      <th></th>\n",
       "      <th>Title</th>\n",
       "      <th>Artist</th>\n",
       "      <th>Nationality</th>\n",
       "      <th>BeginDate</th>\n",
       "      <th>EndDate</th>\n",
       "      <th>Gender</th>\n",
       "      <th>Date</th>\n",
       "      <th>Department</th>\n",
       "    </tr>\n",
       "  </thead>\n",
       "  <tbody>\n",
       "    <tr>\n",
       "      <th>0</th>\n",
       "      <td>Ferdinandsbrücke Project, Vienna, Austria, Ele...</td>\n",
       "      <td>Otto Wagner</td>\n",
       "      <td>(Austrian)</td>\n",
       "      <td>(1841)</td>\n",
       "      <td>(1918)</td>\n",
       "      <td>(Male)</td>\n",
       "      <td>1896</td>\n",
       "      <td>Architecture &amp; Design</td>\n",
       "    </tr>\n",
       "    <tr>\n",
       "      <th>1</th>\n",
       "      <td>City of Music, National Superior Conservatory ...</td>\n",
       "      <td>Christian de Portzamparc</td>\n",
       "      <td>(French)</td>\n",
       "      <td>(1944)</td>\n",
       "      <td>(0)</td>\n",
       "      <td>(Male)</td>\n",
       "      <td>1987</td>\n",
       "      <td>Architecture &amp; Design</td>\n",
       "    </tr>\n",
       "    <tr>\n",
       "      <th>2</th>\n",
       "      <td>Villa near Vienna Project, Outside Vienna, Aus...</td>\n",
       "      <td>Emil Hoppe</td>\n",
       "      <td>(Austrian)</td>\n",
       "      <td>(1876)</td>\n",
       "      <td>(1957)</td>\n",
       "      <td>(Male)</td>\n",
       "      <td>1903</td>\n",
       "      <td>Architecture &amp; Design</td>\n",
       "    </tr>\n",
       "    <tr>\n",
       "      <th>3</th>\n",
       "      <td>The Manhattan Transcripts Project, New York, N...</td>\n",
       "      <td>Bernard Tschumi</td>\n",
       "      <td>()</td>\n",
       "      <td>(1944)</td>\n",
       "      <td>(0)</td>\n",
       "      <td>(Male)</td>\n",
       "      <td>1980</td>\n",
       "      <td>Architecture &amp; Design</td>\n",
       "    </tr>\n",
       "    <tr>\n",
       "      <th>4</th>\n",
       "      <td>Villa, project, outside Vienna, Austria, Exter...</td>\n",
       "      <td>Emil Hoppe</td>\n",
       "      <td>(Austrian)</td>\n",
       "      <td>(1876)</td>\n",
       "      <td>(1957)</td>\n",
       "      <td>(Male)</td>\n",
       "      <td>1903</td>\n",
       "      <td>Architecture &amp; Design</td>\n",
       "    </tr>\n",
       "  </tbody>\n",
       "</table>\n",
       "</div>"
      ],
      "text/plain": [
       "                                               Title  \\\n",
       "0  Ferdinandsbrücke Project, Vienna, Austria, Ele...   \n",
       "1  City of Music, National Superior Conservatory ...   \n",
       "2  Villa near Vienna Project, Outside Vienna, Aus...   \n",
       "3  The Manhattan Transcripts Project, New York, N...   \n",
       "4  Villa, project, outside Vienna, Austria, Exter...   \n",
       "\n",
       "                     Artist Nationality BeginDate EndDate  Gender  Date  \\\n",
       "0               Otto Wagner  (Austrian)    (1841)  (1918)  (Male)  1896   \n",
       "1  Christian de Portzamparc    (French)    (1944)     (0)  (Male)  1987   \n",
       "2                Emil Hoppe  (Austrian)    (1876)  (1957)  (Male)  1903   \n",
       "3           Bernard Tschumi          ()    (1944)     (0)  (Male)  1980   \n",
       "4                Emil Hoppe  (Austrian)    (1876)  (1957)  (Male)  1903   \n",
       "\n",
       "              Department  \n",
       "0  Architecture & Design  \n",
       "1  Architecture & Design  \n",
       "2  Architecture & Design  \n",
       "3  Architecture & Design  \n",
       "4  Architecture & Design  "
      ]
     },
     "execution_count": 56,
     "metadata": {},
     "output_type": "execute_result"
    }
   ],
   "source": [
    "data.head()"
   ]
  },
  {
   "cell_type": "markdown",
   "metadata": {},
   "source": [
    "# Data Cleaning"
   ]
  },
  {
   "cell_type": "markdown",
   "metadata": {},
   "source": [
    "When looking at the first 5 rows of the data we can see that Nationality, BeginDate, EndDate, Gender all contain (). I will remove the parenthesis by interacting though every column and applying str.replace.\n",
    "\n",
    "str.replace replaces a character with another character within the cell of a dataframe.\n",
    ".replace('character_to_replace','replace_with')"
   ]
  },
  {
   "cell_type": "code",
   "execution_count": 57,
   "metadata": {},
   "outputs": [
    {
     "data": {
      "text/html": [
       "<div>\n",
       "<style scoped>\n",
       "    .dataframe tbody tr th:only-of-type {\n",
       "        vertical-align: middle;\n",
       "    }\n",
       "\n",
       "    .dataframe tbody tr th {\n",
       "        vertical-align: top;\n",
       "    }\n",
       "\n",
       "    .dataframe thead th {\n",
       "        text-align: right;\n",
       "    }\n",
       "</style>\n",
       "<table border=\"1\" class=\"dataframe\">\n",
       "  <thead>\n",
       "    <tr style=\"text-align: right;\">\n",
       "      <th></th>\n",
       "      <th>Title</th>\n",
       "      <th>Artist</th>\n",
       "      <th>Nationality</th>\n",
       "      <th>BeginDate</th>\n",
       "      <th>EndDate</th>\n",
       "      <th>Gender</th>\n",
       "      <th>Date</th>\n",
       "      <th>Department</th>\n",
       "    </tr>\n",
       "  </thead>\n",
       "  <tbody>\n",
       "    <tr>\n",
       "      <th>0</th>\n",
       "      <td>Ferdinandsbrücke Project, Vienna, Austria, Ele...</td>\n",
       "      <td>Otto Wagner</td>\n",
       "      <td>Austrian</td>\n",
       "      <td>1841</td>\n",
       "      <td>1918</td>\n",
       "      <td>Male</td>\n",
       "      <td>1896</td>\n",
       "      <td>Architecture &amp; Design</td>\n",
       "    </tr>\n",
       "    <tr>\n",
       "      <th>1</th>\n",
       "      <td>City of Music, National Superior Conservatory ...</td>\n",
       "      <td>Christian de Portzamparc</td>\n",
       "      <td>French</td>\n",
       "      <td>1944</td>\n",
       "      <td>0</td>\n",
       "      <td>Male</td>\n",
       "      <td>1987</td>\n",
       "      <td>Architecture &amp; Design</td>\n",
       "    </tr>\n",
       "    <tr>\n",
       "      <th>2</th>\n",
       "      <td>Villa near Vienna Project, Outside Vienna, Aus...</td>\n",
       "      <td>Emil Hoppe</td>\n",
       "      <td>Austrian</td>\n",
       "      <td>1876</td>\n",
       "      <td>1957</td>\n",
       "      <td>Male</td>\n",
       "      <td>1903</td>\n",
       "      <td>Architecture &amp; Design</td>\n",
       "    </tr>\n",
       "    <tr>\n",
       "      <th>3</th>\n",
       "      <td>The Manhattan Transcripts Project, New York, N...</td>\n",
       "      <td>Bernard Tschumi</td>\n",
       "      <td></td>\n",
       "      <td>1944</td>\n",
       "      <td>0</td>\n",
       "      <td>Male</td>\n",
       "      <td>1980</td>\n",
       "      <td>Architecture &amp; Design</td>\n",
       "    </tr>\n",
       "    <tr>\n",
       "      <th>4</th>\n",
       "      <td>Villa, project, outside Vienna, Austria, Exter...</td>\n",
       "      <td>Emil Hoppe</td>\n",
       "      <td>Austrian</td>\n",
       "      <td>1876</td>\n",
       "      <td>1957</td>\n",
       "      <td>Male</td>\n",
       "      <td>1903</td>\n",
       "      <td>Architecture &amp; Design</td>\n",
       "    </tr>\n",
       "  </tbody>\n",
       "</table>\n",
       "</div>"
      ],
      "text/plain": [
       "                                               Title  \\\n",
       "0  Ferdinandsbrücke Project, Vienna, Austria, Ele...   \n",
       "1  City of Music, National Superior Conservatory ...   \n",
       "2  Villa near Vienna Project, Outside Vienna, Aus...   \n",
       "3  The Manhattan Transcripts Project, New York, N...   \n",
       "4  Villa, project, outside Vienna, Austria, Exter...   \n",
       "\n",
       "                     Artist Nationality BeginDate EndDate Gender  Date  \\\n",
       "0               Otto Wagner    Austrian      1841    1918   Male  1896   \n",
       "1  Christian de Portzamparc      French      1944       0   Male  1987   \n",
       "2                Emil Hoppe    Austrian      1876    1957   Male  1903   \n",
       "3           Bernard Tschumi                  1944       0   Male  1980   \n",
       "4                Emil Hoppe    Austrian      1876    1957   Male  1903   \n",
       "\n",
       "              Department  \n",
       "0  Architecture & Design  \n",
       "1  Architecture & Design  \n",
       "2  Architecture & Design  \n",
       "3  Architecture & Design  \n",
       "4  Architecture & Design  "
      ]
     },
     "execution_count": 57,
     "metadata": {},
     "output_type": "execute_result"
    }
   ],
   "source": [
    "#remnove parenthesis\n",
    "for column in ['Nationality','BeginDate','EndDate','Gender']:\n",
    "    data[column] = data[column].str.replace('(','')\n",
    "    data[column] = data[column].str.replace(')','')\n",
    "\n",
    "\n",
    "data.head()    "
   ]
  },
  {
   "cell_type": "markdown",
   "metadata": {},
   "source": [
    "# Explore Gender"
   ]
  },
  {
   "cell_type": "code",
   "execution_count": 58,
   "metadata": {},
   "outputs": [
    {
     "data": {
      "text/html": [
       "<div>\n",
       "<style scoped>\n",
       "    .dataframe tbody tr th:only-of-type {\n",
       "        vertical-align: middle;\n",
       "    }\n",
       "\n",
       "    .dataframe tbody tr th {\n",
       "        vertical-align: top;\n",
       "    }\n",
       "\n",
       "    .dataframe thead th {\n",
       "        text-align: right;\n",
       "    }\n",
       "</style>\n",
       "<table border=\"1\" class=\"dataframe\">\n",
       "  <thead>\n",
       "    <tr style=\"text-align: right;\">\n",
       "      <th></th>\n",
       "      <th>Title</th>\n",
       "      <th>Artist</th>\n",
       "      <th>Nationality</th>\n",
       "      <th>BeginDate</th>\n",
       "      <th>EndDate</th>\n",
       "      <th>Gender</th>\n",
       "      <th>Date</th>\n",
       "      <th>Department</th>\n",
       "    </tr>\n",
       "  </thead>\n",
       "  <tbody>\n",
       "    <tr>\n",
       "      <th>134833</th>\n",
       "      <td>Parkett no. 100/101</td>\n",
       "      <td>Various Artists, Nairy Baghramian, Sophie Call...</td>\n",
       "      <td>German French Italian South African German Ge...</td>\n",
       "      <td>0 1971 1953 1960 1953 1956 1961 1948 1946 1980...</td>\n",
       "      <td>0 0 0 0 0 0 0 0 0 0 0 0</td>\n",
       "      <td>Female Female Male Female Female Female Femal...</td>\n",
       "      <td>2017</td>\n",
       "      <td>Drawings &amp; Prints</td>\n",
       "    </tr>\n",
       "  </tbody>\n",
       "</table>\n",
       "</div>"
      ],
      "text/plain": [
       "                      Title  \\\n",
       "134833  Parkett no. 100/101   \n",
       "\n",
       "                                                   Artist  \\\n",
       "134833  Various Artists, Nairy Baghramian, Sophie Call...   \n",
       "\n",
       "                                              Nationality  \\\n",
       "134833   German French Italian South African German Ge...   \n",
       "\n",
       "                                                BeginDate  \\\n",
       "134833  0 1971 1953 1960 1953 1956 1961 1948 1946 1980...   \n",
       "\n",
       "                        EndDate  \\\n",
       "134833  0 0 0 0 0 0 0 0 0 0 0 0   \n",
       "\n",
       "                                                   Gender  Date  \\\n",
       "134833   Female Female Male Female Female Female Femal...  2017   \n",
       "\n",
       "               Department  \n",
       "134833  Drawings & Prints  "
      ]
     },
     "metadata": {},
     "output_type": "display_data"
    }
   ],
   "source": [
    "gender = data['Gender'].unique().tolist()\n",
    "display(data[data['Gender']==' Female Female Male Female Female Female Female Male Male Female Male'])\n",
    "for_later_manipulation = data[data['Gender']==' Female Female Male Female Female Female Female Male Male Female Male']\n"
   ]
  },
  {
   "cell_type": "markdown",
   "metadata": {},
   "source": [
    "I used unique().list() which takes all values in the dataframe and includes each unique value into the list 'gener'\n",
    "This allowed me to get a quick view as too how gender is classified in our data. \n",
    "\n",
    "I found that for paintings that have multiple artist, all artists are included within the same row. \n",
    "For now lets filter out these instances, but save it another a different data frame."
   ]
  },
  {
   "cell_type": "markdown",
   "metadata": {},
   "source": [
    "Now that we have out gender list, I will interate through it to find another other categorization that aren't male or female. More specifically, I am interested to know how unkown gender of the artist is categorized."
   ]
  },
  {
   "cell_type": "code",
   "execution_count": 31,
   "metadata": {},
   "outputs": [
    {
     "data": {
      "text/html": [
       "<div>\n",
       "<style scoped>\n",
       "    .dataframe tbody tr th:only-of-type {\n",
       "        vertical-align: middle;\n",
       "    }\n",
       "\n",
       "    .dataframe tbody tr th {\n",
       "        vertical-align: top;\n",
       "    }\n",
       "\n",
       "    .dataframe thead th {\n",
       "        text-align: right;\n",
       "    }\n",
       "</style>\n",
       "<table border=\"1\" class=\"dataframe\">\n",
       "  <thead>\n",
       "    <tr style=\"text-align: right;\">\n",
       "      <th></th>\n",
       "      <th>Title</th>\n",
       "      <th>Artist</th>\n",
       "      <th>Nationality</th>\n",
       "      <th>BeginDate</th>\n",
       "      <th>EndDate</th>\n",
       "      <th>Gender</th>\n",
       "      <th>Date</th>\n",
       "      <th>Department</th>\n",
       "    </tr>\n",
       "  </thead>\n",
       "  <tbody>\n",
       "    <tr>\n",
       "      <th>1355</th>\n",
       "      <td>Mat</td>\n",
       "      <td>NaN</td>\n",
       "      <td>NaN</td>\n",
       "      <td>NaN</td>\n",
       "      <td>NaN</td>\n",
       "      <td>NaN</td>\n",
       "      <td>c. 1930-40</td>\n",
       "      <td>Architecture &amp; Design</td>\n",
       "    </tr>\n",
       "    <tr>\n",
       "      <th>1930</th>\n",
       "      <td>Bread Knife</td>\n",
       "      <td>NaN</td>\n",
       "      <td>NaN</td>\n",
       "      <td>NaN</td>\n",
       "      <td>NaN</td>\n",
       "      <td>NaN</td>\n",
       "      <td>1950s</td>\n",
       "      <td>Architecture &amp; Design</td>\n",
       "    </tr>\n",
       "    <tr>\n",
       "      <th>1940</th>\n",
       "      <td>Combination Meat Chopper and Tenderizer</td>\n",
       "      <td>NaN</td>\n",
       "      <td>NaN</td>\n",
       "      <td>NaN</td>\n",
       "      <td>NaN</td>\n",
       "      <td>NaN</td>\n",
       "      <td>1950s</td>\n",
       "      <td>Architecture &amp; Design</td>\n",
       "    </tr>\n",
       "    <tr>\n",
       "      <th>2470</th>\n",
       "      <td>Wine Bottle Stand</td>\n",
       "      <td>NaN</td>\n",
       "      <td>NaN</td>\n",
       "      <td>NaN</td>\n",
       "      <td>NaN</td>\n",
       "      <td>NaN</td>\n",
       "      <td>c.1955</td>\n",
       "      <td>Architecture &amp; Design</td>\n",
       "    </tr>\n",
       "    <tr>\n",
       "      <th>3358</th>\n",
       "      <td>Kitchen Scoop</td>\n",
       "      <td>NaN</td>\n",
       "      <td>NaN</td>\n",
       "      <td>NaN</td>\n",
       "      <td>NaN</td>\n",
       "      <td>NaN</td>\n",
       "      <td>1950s</td>\n",
       "      <td>Architecture &amp; Design</td>\n",
       "    </tr>\n",
       "  </tbody>\n",
       "</table>\n",
       "</div>"
      ],
      "text/plain": [
       "                                        Title Artist Nationality BeginDate  \\\n",
       "1355                                      Mat    NaN         NaN       NaN   \n",
       "1930                              Bread Knife    NaN         NaN       NaN   \n",
       "1940  Combination Meat Chopper and Tenderizer    NaN         NaN       NaN   \n",
       "2470                        Wine Bottle Stand    NaN         NaN       NaN   \n",
       "3358                            Kitchen Scoop    NaN         NaN       NaN   \n",
       "\n",
       "     EndDate Gender        Date             Department  \n",
       "1355     NaN    NaN  c. 1930-40  Architecture & Design  \n",
       "1930     NaN    NaN       1950s  Architecture & Design  \n",
       "1940     NaN    NaN       1950s  Architecture & Design  \n",
       "2470     NaN    NaN      c.1955  Architecture & Design  \n",
       "3358     NaN    NaN       1950s  Architecture & Design  "
      ]
     },
     "metadata": {},
     "output_type": "display_data"
    }
   ],
   "source": [
    "# lets check how nan are categorized\n",
    "# Lets try to look for 'ale' since that combination of words is found in both male and female. Whenever we don't see \n",
    "# that combination add it to our list_nans, which will contains all possible categorization for nans\n",
    "\n",
    "if_nans = data['Gender'].isnull().values.any() #check if there are nan's True\n",
    "display(data[data['Gender'].isnull()].head())\n",
    "\n",
    "list_nans = []\n",
    "for i in gender:\n",
    "    try:\n",
    "        if (i.find('ale')!=-1):\n",
    "            pass\n",
    "        else:\n",
    "            list_nans.append(i)\n",
    "    except:\n",
    "        list_nans.append(i)\n",
    "        continue"
   ]
  },
  {
   "cell_type": "markdown",
   "metadata": {},
   "source": [
    "list_nans = ['', ' ', nan, '  ', '   ', '     ', '    ']\n",
    "\n",
    "Unknown gender is categorized in many different ways. There are nans, empty spaces, and mulitple empty spaces. \n",
    "A simple .fillna will not work.\n"
   ]
  },
  {
   "cell_type": "code",
   "execution_count": 32,
   "metadata": {},
   "outputs": [
    {
     "data": {
      "text/html": [
       "<div>\n",
       "<style scoped>\n",
       "    .dataframe tbody tr th:only-of-type {\n",
       "        vertical-align: middle;\n",
       "    }\n",
       "\n",
       "    .dataframe tbody tr th {\n",
       "        vertical-align: top;\n",
       "    }\n",
       "\n",
       "    .dataframe thead th {\n",
       "        text-align: right;\n",
       "    }\n",
       "</style>\n",
       "<table border=\"1\" class=\"dataframe\">\n",
       "  <thead>\n",
       "    <tr style=\"text-align: right;\">\n",
       "      <th></th>\n",
       "      <th>Title</th>\n",
       "      <th>Artist</th>\n",
       "      <th>Nationality</th>\n",
       "      <th>BeginDate</th>\n",
       "      <th>EndDate</th>\n",
       "      <th>Gender</th>\n",
       "      <th>Date</th>\n",
       "      <th>Department</th>\n",
       "    </tr>\n",
       "  </thead>\n",
       "  <tbody>\n",
       "    <tr>\n",
       "      <th>1355</th>\n",
       "      <td>Mat</td>\n",
       "      <td>NaN</td>\n",
       "      <td>NaN</td>\n",
       "      <td>NaN</td>\n",
       "      <td>NaN</td>\n",
       "      <td>No Gender Info</td>\n",
       "      <td>c. 1930-40</td>\n",
       "      <td>Architecture &amp; Design</td>\n",
       "    </tr>\n",
       "  </tbody>\n",
       "</table>\n",
       "</div>"
      ],
      "text/plain": [
       "     Title Artist Nationality BeginDate EndDate          Gender        Date  \\\n",
       "1355   Mat    NaN         NaN       NaN     NaN  No Gender Info  c. 1930-40   \n",
       "\n",
       "                 Department  \n",
       "1355  Architecture & Design  "
      ]
     },
     "metadata": {},
     "output_type": "display_data"
    }
   ],
   "source": [
    "# Lets replace the nans in the columns\n",
    "for i in list_nans:\n",
    "    data['Gender'] = data['Gender'].replace(i, \"No Gender Info\")\n",
    "\n",
    "\n",
    "#lets check one of those NaNs\n",
    "display(data[data['Title'] == 'Mat'])\n"
   ]
  },
  {
   "cell_type": "markdown",
   "metadata": {},
   "source": [
    "unknown gender information has been replace with 'no gender info'\n",
    "Next, let's apply more data cleaning techiques to gender."
   ]
  },
  {
   "cell_type": "code",
   "execution_count": 33,
   "metadata": {},
   "outputs": [
    {
     "data": {
      "text/plain": [
       "['male', 'female', 'no gender info']"
      ]
     },
     "metadata": {},
     "output_type": "display_data"
    },
    {
     "data": {
      "text/html": [
       "<div>\n",
       "<style scoped>\n",
       "    .dataframe tbody tr th:only-of-type {\n",
       "        vertical-align: middle;\n",
       "    }\n",
       "\n",
       "    .dataframe tbody tr th {\n",
       "        vertical-align: top;\n",
       "    }\n",
       "\n",
       "    .dataframe thead th {\n",
       "        text-align: right;\n",
       "    }\n",
       "</style>\n",
       "<table border=\"1\" class=\"dataframe\">\n",
       "  <thead>\n",
       "    <tr style=\"text-align: right;\">\n",
       "      <th></th>\n",
       "      <th>Title</th>\n",
       "      <th>Artist</th>\n",
       "      <th>Nationality</th>\n",
       "      <th>BeginDate</th>\n",
       "      <th>EndDate</th>\n",
       "      <th>Gender</th>\n",
       "      <th>Date</th>\n",
       "      <th>Department</th>\n",
       "    </tr>\n",
       "  </thead>\n",
       "  <tbody>\n",
       "    <tr>\n",
       "      <th>0</th>\n",
       "      <td>Ferdinandsbrücke Project, Vienna, Austria, Ele...</td>\n",
       "      <td>Otto Wagner</td>\n",
       "      <td>Austrian</td>\n",
       "      <td>1841</td>\n",
       "      <td>1918</td>\n",
       "      <td>male</td>\n",
       "      <td>1896</td>\n",
       "      <td>Architecture &amp; Design</td>\n",
       "    </tr>\n",
       "    <tr>\n",
       "      <th>1</th>\n",
       "      <td>City of Music, National Superior Conservatory ...</td>\n",
       "      <td>Christian de Portzamparc</td>\n",
       "      <td>French</td>\n",
       "      <td>1944</td>\n",
       "      <td>0</td>\n",
       "      <td>male</td>\n",
       "      <td>1987</td>\n",
       "      <td>Architecture &amp; Design</td>\n",
       "    </tr>\n",
       "    <tr>\n",
       "      <th>2</th>\n",
       "      <td>Villa near Vienna Project, Outside Vienna, Aus...</td>\n",
       "      <td>Emil Hoppe</td>\n",
       "      <td>Austrian</td>\n",
       "      <td>1876</td>\n",
       "      <td>1957</td>\n",
       "      <td>male</td>\n",
       "      <td>1903</td>\n",
       "      <td>Architecture &amp; Design</td>\n",
       "    </tr>\n",
       "    <tr>\n",
       "      <th>3</th>\n",
       "      <td>The Manhattan Transcripts Project, New York, N...</td>\n",
       "      <td>Bernard Tschumi</td>\n",
       "      <td></td>\n",
       "      <td>1944</td>\n",
       "      <td>0</td>\n",
       "      <td>male</td>\n",
       "      <td>1980</td>\n",
       "      <td>Architecture &amp; Design</td>\n",
       "    </tr>\n",
       "    <tr>\n",
       "      <th>4</th>\n",
       "      <td>Villa, project, outside Vienna, Austria, Exter...</td>\n",
       "      <td>Emil Hoppe</td>\n",
       "      <td>Austrian</td>\n",
       "      <td>1876</td>\n",
       "      <td>1957</td>\n",
       "      <td>male</td>\n",
       "      <td>1903</td>\n",
       "      <td>Architecture &amp; Design</td>\n",
       "    </tr>\n",
       "  </tbody>\n",
       "</table>\n",
       "</div>"
      ],
      "text/plain": [
       "                                               Title  \\\n",
       "0  Ferdinandsbrücke Project, Vienna, Austria, Ele...   \n",
       "1  City of Music, National Superior Conservatory ...   \n",
       "2  Villa near Vienna Project, Outside Vienna, Aus...   \n",
       "3  The Manhattan Transcripts Project, New York, N...   \n",
       "4  Villa, project, outside Vienna, Austria, Exter...   \n",
       "\n",
       "                     Artist Nationality BeginDate EndDate Gender  Date  \\\n",
       "0               Otto Wagner    Austrian      1841    1918   male  1896   \n",
       "1  Christian de Portzamparc      French      1944       0   male  1987   \n",
       "2                Emil Hoppe    Austrian      1876    1957   male  1903   \n",
       "3           Bernard Tschumi                  1944       0   male  1980   \n",
       "4                Emil Hoppe    Austrian      1876    1957   male  1903   \n",
       "\n",
       "              Department  \n",
       "0  Architecture & Design  \n",
       "1  Architecture & Design  \n",
       "2  Architecture & Design  \n",
       "3  Architecture & Design  \n",
       "4  Architecture & Design  "
      ]
     },
     "execution_count": 33,
     "metadata": {},
     "output_type": "execute_result"
    }
   ],
   "source": [
    "#convert all to lower\n",
    "data['Gender'] = data['Gender'].str.lower()\n",
    "\n",
    "#Strip empty spaces at the beg. and end\n",
    "data['Gender'] = data['Gender'].str.strip()\n",
    "\n",
    "#Now that the gender column is cleaned, lets filter the multiple gender data out to only get data\n",
    "#where only one artist is listed.\n",
    "\n",
    "data_Clean = data[(data['Gender'] == 'male') | (data['Gender'] == 'female') | (data['Gender'] == 'no gender info')]\n",
    "display(data_Clean['Gender'].unique().tolist())\n",
    "data_Clean.head()"
   ]
  },
  {
   "cell_type": "markdown",
   "metadata": {},
   "source": [
    "# Explore Nationality and Artist"
   ]
  },
  {
   "cell_type": "markdown",
   "metadata": {},
   "source": [
    "Now, lets clean up nationality and artist. For this case, there isn't much to do. We will just replace nans."
   ]
  },
  {
   "cell_type": "code",
   "execution_count": 34,
   "metadata": {},
   "outputs": [],
   "source": [
    "# Lets first explore the other columns\n",
    "data_Clean['Nationality'].fillna('nationality unknown', inplace=True)\n",
    "data_Clean['Artist'].fillna('artist unknown', inplace=True)"
   ]
  },
  {
   "cell_type": "markdown",
   "metadata": {},
   "source": [
    "# Explore Begin,EndDate, and Date"
   ]
  },
  {
   "cell_type": "markdown",
   "metadata": {},
   "source": [
    "lets ensure that the dates are integers "
   ]
  },
  {
   "cell_type": "code",
   "execution_count": 35,
   "metadata": {},
   "outputs": [
    {
     "name": "stdout",
     "output_type": "stream",
     "text": [
      "('Unable to parse string \"1936 1909\" at position 530', 'occurred at index BeginDate')\n"
     ]
    }
   ],
   "source": [
    "\n",
    "try:\n",
    "    data_Clean[[\"BeginDate\", \"EndDate\", \"Date\"]].apply(pd.to_numeric)\n",
    "except Exception as e:\n",
    "    print(str(e))\n"
   ]
  },
  {
   "cell_type": "markdown",
   "metadata": {},
   "source": [
    "There is an error. The code found a string '1936 1909' and it cannot convert it to numeric.\n",
    "Realizing that cleaning these columns is going to be harder than intially thought, lets explore what other surpises we can find these columns.\n",
    "\n",
    "I created a custom function, that will go through every values in the column, attempt to convert it to an integer. If it cannot convert it, then it will add it to a list, list_of_bad_dates."
   ]
  },
  {
   "cell_type": "code",
   "execution_count": 36,
   "metadata": {},
   "outputs": [],
   "source": [
    "def find_dates_issues(df, col):\n",
    "    list_of_bad_dates = []\n",
    "    dates = df[col].values\n",
    "    for i in dates: \n",
    "        try:\n",
    "            int(i)\n",
    "        except: \n",
    "            list_of_bad_dates.append(i)\n",
    "    return list_of_bad_dates\n",
    "            \n",
    "bad_Begin_Dates = find_dates_issues(data_Clean,'BeginDate')\n",
    "bad_Date = find_dates_issues(data_Clean,'Date')\n",
    "bad_End_Dates = find_dates_issues(data_Clean,'EndDate')"
   ]
  },
  {
   "cell_type": "raw",
   "metadata": {},
   "source": [
    "From a quick scan we can see their are nans, mulitple dates, Incomplete years and special characters. The Dates column is messier than all the others.\n",
    "\n",
    "There a few things we must do to these dates. \n",
    "  Remove any parentheses or extra other characters\n",
    "  \n",
    "  Ensure that there are no more than one digit. Where there is a single year, we'll keep it and handle the other cases:\n",
    "        Some are ranges where both years have four digits, e.g. 1913 1923\n",
    "        Some are ranges where the second year has only two digits, e.g. 1870 79\n",
    "\n"
   ]
  },
  {
   "cell_type": "code",
   "execution_count": 37,
   "metadata": {},
   "outputs": [
    {
     "data": {
      "text/plain": [
       "['3984', '43']"
      ]
     },
     "execution_count": 37,
     "metadata": {},
     "output_type": "execute_result"
    }
   ],
   "source": [
    "dummy_data = bad_Date[1:5]\n",
    "import re\n",
    "\n",
    "def strip_characters(badDate):\n",
    "    badDate.strip()\n",
    "    return re.sub(r\"[^0-9]+\", ' ', badDate).strip().split(\" \")\n",
    "strip_characters('lksajf3984 laskjf43/')"
   ]
  },
  {
   "cell_type": "raw",
   "metadata": {},
   "source": [
    "strip_characters return a list of all dates that were seperated by a space.\n",
    "strip_characters('lksajf3984 laskjf43/') = ['3984', '43']\n",
    "\n",
    "There are two custom functions that will handle the rest of the data cleanning. Classify_fix_date_type applys strip_characters() to the date, classifies the date based on the length of list and items in list. (i.e 1890 1892 vs 1820 83)\n",
    "\n",
    "After classifying, if it is an easy fix, like returning unknown or just returning date Classify_fix_date_type will do that. It the data cleaning is more involve it will call handle_dates which applys data cleanning based on our rules. \n",
    "\n",
    "Rules:\n",
    "1920       return 1920\n",
    "1920 20    return AVG(1920 + 1920) iff diffence is 20 years apart\n",
    "1991 1992  return AVG(1991+1992)   iff diffence is 20 years apart\n",
    "1950 0     return 0 \n",
    "0 1820     return 1820\n",
    "1820 1840 1856 return 1820 (first date)\n",
    "'unknown'  return unknown"
   ]
  },
  {
   "cell_type": "code",
   "execution_count": 38,
   "metadata": {},
   "outputs": [],
   "source": [
    "# our Strip_Characters return a list of all 'Dates' seperated by dates\n",
    "def classify_fix_date_type(date):\n",
    "    date=str(date)\n",
    "    # unknown mispelling added later due to miseplling found in the Dates column\n",
    "    if (date.lower() == 'unknown') or date =='Unkown':\n",
    "        return 'unknown'\n",
    "    split_dates = strip_characters(date)\n",
    "    if len(split_dates) == 1 and len(split_dates[0]) == 4:\n",
    "        return date\n",
    "    \n",
    "    elif sum(len(i) for i in split_dates) % 4 == 0 : \n",
    "        return handle_dates(2, split_dates)\n",
    "    \n",
    "    elif sum(len(i) for i in split_dates) % 4 != 0 and len(split_dates[0]) == 4 :\n",
    "        return handle_dates(3, split_dates)\n",
    "    \n",
    "    elif split_dates[0] == '0':\n",
    "        try:\n",
    "            if(len(split_dates[1]) == 4):\n",
    "                return split_dates[1]\n",
    "            else: return (split_dates[0])\n",
    "        except:\n",
    "            return split_dates[0]\n",
    "    \n",
    "    else: \n",
    "        return date\n",
    "    \n",
    "        \n",
    "    \n",
    "def handle_dates(classify_date_type, split_dates):\n",
    "    if classify_date_type == 2:\n",
    "         return round(sum(int(i) for i in split_dates)/2)\n",
    "    \n",
    "    if classify_date_type == 3:\n",
    "       \n",
    "        if split_dates[1]=='0' and len(split_dates[0])==4:\n",
    "           \n",
    "            return split_dates[0]          \n",
    "        if len(split_dates[0])==4 and len(split_dates[1])==2:      \n",
    "            new_date = int(split_dates[0][0:2] + split_dates[1]) \n",
    "            if abs(new_date - int(split_dates[0])) < 20: \n",
    "                 return round(int(split_dates[0]) + new_date)/2\n",
    "            else:\n",
    "                return split_dates[0]\n",
    "        else: return split_dates[0]\n",
    "    "
   ]
  },
  {
   "cell_type": "code",
   "execution_count": 39,
   "metadata": {},
   "outputs": [
    {
     "name": "stdout",
     "output_type": "stream",
     "text": [
      "1952\n",
      "1991\n",
      "1990\n"
     ]
    }
   ],
   "source": [
    "# lets see the function at work          \n",
    "print(classify_fix_date_type(\"1952 1924 0\"))\n",
    "print(classify_fix_date_type(\"1990 1992\"))\n",
    "print(classify_fix_date_type(\"1990 0\"))\n"
   ]
  },
  {
   "cell_type": "raw",
   "metadata": {},
   "source": [
    "Apply it to our dataframe columns. \n",
    "First fill na's with unknown because applying our custom functions"
   ]
  },
  {
   "cell_type": "code",
   "execution_count": 40,
   "metadata": {},
   "outputs": [],
   "source": [
    "        \n",
    "data_Clean['BeginDate'].fillna(\"unknown\", inplace=True)\n",
    "data_Clean['BeginDate'] = data_Clean['BeginDate'].apply(classify_fix_date_type) \n",
    "\n",
    "data_Clean['EndDate'].fillna(\"unknown\", inplace=True)\n",
    "data_Clean['EndDate'] = data_Clean['EndDate'].apply(classify_fix_date_type) \n"
   ]
  },
  {
   "cell_type": "raw",
   "metadata": {},
   "source": [
    "After cleaning these two columns, I did some exploration of the data. To ensure everything was capture. "
   ]
  },
  {
   "cell_type": "raw",
   "metadata": {},
   "source": [
    "# attempted to convert everything that is not unknown to a integer\n",
    "temp_series = data_Clean['EndDate'][data_Clean['EndDate'] != 'unknown'].astype(int)\n",
    "# use a group by to get dates counts \n",
    "check = check.groupby([data_Clean['EndDate'][data_Clean['EndDate'] != 'unknown'].astype(int)]).count()\n",
    "# plotted dates for a quick visual of dates\n",
    "check.plot()\n",
    "# found that there were dates after out current date.\n",
    "check = temp_series[temp_series > 2019]"
   ]
  },
  {
   "cell_type": "raw",
   "metadata": {},
   "source": [
    "I found an entry date that was incorrect. The EndDate was 3004 which is not possible. I removed the row using .loc since it was ony one item"
   ]
  },
  {
   "cell_type": "code",
   "execution_count": 41,
   "metadata": {},
   "outputs": [
    {
     "data": {
      "text/html": [
       "<div>\n",
       "<style scoped>\n",
       "    .dataframe tbody tr th:only-of-type {\n",
       "        vertical-align: middle;\n",
       "    }\n",
       "\n",
       "    .dataframe tbody tr th {\n",
       "        vertical-align: top;\n",
       "    }\n",
       "\n",
       "    .dataframe thead th {\n",
       "        text-align: right;\n",
       "    }\n",
       "</style>\n",
       "<table border=\"1\" class=\"dataframe\">\n",
       "  <thead>\n",
       "    <tr style=\"text-align: right;\">\n",
       "      <th></th>\n",
       "      <th>Title</th>\n",
       "      <th>Artist</th>\n",
       "      <th>Nationality</th>\n",
       "      <th>BeginDate</th>\n",
       "      <th>EndDate</th>\n",
       "      <th>Gender</th>\n",
       "      <th>Date</th>\n",
       "      <th>Department</th>\n",
       "    </tr>\n",
       "  </thead>\n",
       "  <tbody>\n",
       "  </tbody>\n",
       "</table>\n",
       "</div>"
      ],
      "text/plain": [
       "Empty DataFrame\n",
       "Columns: [Title, Artist, Nationality, BeginDate, EndDate, Gender, Date, Department]\n",
       "Index: []"
      ]
     },
     "metadata": {},
     "output_type": "display_data"
    }
   ],
   "source": [
    "display(data_Clean[data_Clean['EndDate']== '3004'])\n",
    "\n",
    "data_Clean.drop(data_Clean.loc[data_Clean['EndDate']=='3004'].index, inplace=True)\n",
    "\n",
    "# I will the same type of checks for Begin Date as well"
   ]
  },
  {
   "cell_type": "raw",
   "metadata": {},
   "source": [
    "I applied the same exploreation to BeginDate.\n",
    "\n",
    "I found that there are birthdates that are after 2019. I dropped any birthdates after 2010. \n",
    "\n",
    "Since there are mulitple instance we will filter the data out rather than use an accessor. "
   ]
  },
  {
   "cell_type": "raw",
   "metadata": {},
   "source": [
    "We will also drop any unknown birthdates and EndDates. We could've have dropped them at the beginning, but I wanted to play around with NaNs for learning purposes.\n",
    "\n",
    "This is why it is importatant to understand the requirements before starting a project."
   ]
  },
  {
   "cell_type": "code",
   "execution_count": 42,
   "metadata": {},
   "outputs": [],
   "source": [
    "data_Clean = data_Clean[data_Clean['BeginDate'] != 'unknown']\n",
    "data_Clean = data_Clean[data_Clean['EndDate'] != 'unknown']\n",
    "data_Clean[['BeginDate','EndDate']]=data_Clean[['BeginDate','EndDate']].astype(int)\n",
    "\n",
    "data_Clean = data_Clean[data_Clean['BeginDate'] < 2010]"
   ]
  },
  {
   "cell_type": "markdown",
   "metadata": {},
   "source": [
    "# Apply custom functions to Date\n",
    "I mentioned how Dates was more complicated than End and Begin Date. Lets test out our "
   ]
  },
  {
   "cell_type": "code",
   "execution_count": 43,
   "metadata": {},
   "outputs": [
    {
     "name": "stdout",
     "output_type": "stream",
     "text": [
      "invalid literal for int() with base 10: ''\n"
     ]
    }
   ],
   "source": [
    "data_Clean['Date'].isnull().values.any()\n",
    "try: \n",
    "    data_Clean['Date'] = data_Clean['Date'].apply(classify_fix_date_type) \n",
    "except Exception as e:\n",
    "    print(e)\n"
   ]
  },
  {
   "cell_type": "markdown",
   "metadata": {},
   "source": [
    "The reason I wrapped it under with a try and except was because dates was much meassier than the other two date columns. There may have a case in which our custom cleanning code doesn't work. It looked like we found one. After some more exploration, I found that there are Dates marked as just n.d., Various, unknown and an incorrect spelling of unknown,'(London?, published in aid of the Comforts Fund  for Women and Children of Sovie',(n.d.),'New York' and others\n",
    "\n",
    "Due to the strip_characters function, n.d is converted to just ''\n",
    "\n",
    "In these cases, will will drop these rows."
   ]
  },
  {
   "cell_type": "code",
   "execution_count": 44,
   "metadata": {},
   "outputs": [],
   "source": [
    "data_Clean['Date'].fillna('unknown', inplace=True) \n",
    "data_Clean=data_Clean[~data_Clean['Date'].isin(['nd','n.d','TBC','TBD','no date','date of publicati','New York','(n.d.)','n.d.','Various','''(London?, published in aid of the Comforts Fund  for Women and Children of Sovie'''])]\n",
    "\n",
    "data_Clean['Date'] = data_Clean['Date'].apply(classify_fix_date_type) \n"
   ]
  },
  {
   "cell_type": "code",
   "execution_count": 45,
   "metadata": {},
   "outputs": [
    {
     "data": {
      "text/html": [
       "<div>\n",
       "<style scoped>\n",
       "    .dataframe tbody tr th:only-of-type {\n",
       "        vertical-align: middle;\n",
       "    }\n",
       "\n",
       "    .dataframe tbody tr th {\n",
       "        vertical-align: top;\n",
       "    }\n",
       "\n",
       "    .dataframe thead th {\n",
       "        text-align: right;\n",
       "    }\n",
       "</style>\n",
       "<table border=\"1\" class=\"dataframe\">\n",
       "  <thead>\n",
       "    <tr style=\"text-align: right;\">\n",
       "      <th></th>\n",
       "      <th>Title</th>\n",
       "      <th>Artist</th>\n",
       "      <th>Nationality</th>\n",
       "      <th>BeginDate</th>\n",
       "      <th>EndDate</th>\n",
       "      <th>Gender</th>\n",
       "      <th>Date</th>\n",
       "      <th>Department</th>\n",
       "    </tr>\n",
       "  </thead>\n",
       "  <tbody>\n",
       "    <tr>\n",
       "      <th>74832</th>\n",
       "      <td>The Back (I)</td>\n",
       "      <td>Henri Matisse</td>\n",
       "      <td>French</td>\n",
       "      <td>1869</td>\n",
       "      <td>1954</td>\n",
       "      <td>male</td>\n",
       "      <td>Paris, Couvent du Sacré Coeur, and Issy-les-Mo...</td>\n",
       "      <td>Painting &amp; Sculpture</td>\n",
       "    </tr>\n",
       "  </tbody>\n",
       "</table>\n",
       "</div>"
      ],
      "text/plain": [
       "              Title         Artist Nationality BeginDate EndDate Gender  \\\n",
       "74832  The Back (I)  Henri Matisse      French      1869    1954   male   \n",
       "\n",
       "                                                    Date            Department  \n",
       "74832  Paris, Couvent du Sacré Coeur, and Issy-les-Mo...  Painting & Sculpture  "
      ]
     },
     "metadata": {},
     "output_type": "display_data"
    },
    {
     "data": {
      "text/html": [
       "<div>\n",
       "<style scoped>\n",
       "    .dataframe tbody tr th:only-of-type {\n",
       "        vertical-align: middle;\n",
       "    }\n",
       "\n",
       "    .dataframe tbody tr th {\n",
       "        vertical-align: top;\n",
       "    }\n",
       "\n",
       "    .dataframe thead th {\n",
       "        text-align: right;\n",
       "    }\n",
       "</style>\n",
       "<table border=\"1\" class=\"dataframe\">\n",
       "  <thead>\n",
       "    <tr style=\"text-align: right;\">\n",
       "      <th></th>\n",
       "      <th>Title</th>\n",
       "      <th>Artist</th>\n",
       "      <th>Nationality</th>\n",
       "      <th>BeginDate</th>\n",
       "      <th>EndDate</th>\n",
       "      <th>Gender</th>\n",
       "      <th>Date</th>\n",
       "      <th>Department</th>\n",
       "    </tr>\n",
       "  </thead>\n",
       "  <tbody>\n",
       "    <tr>\n",
       "      <th>74832</th>\n",
       "      <td>The Back (I)</td>\n",
       "      <td>Henri Matisse</td>\n",
       "      <td>French</td>\n",
       "      <td>1869</td>\n",
       "      <td>1954</td>\n",
       "      <td>male</td>\n",
       "      <td>1908</td>\n",
       "      <td>Painting &amp; Sculpture</td>\n",
       "    </tr>\n",
       "  </tbody>\n",
       "</table>\n",
       "</div>"
      ],
      "text/plain": [
       "              Title         Artist Nationality  BeginDate  EndDate Gender  \\\n",
       "74832  The Back (I)  Henri Matisse      French       1869     1954   male   \n",
       "\n",
       "       Date            Department  \n",
       "74832  1908  Painting & Sculpture  "
      ]
     },
     "metadata": {},
     "output_type": "display_data"
    }
   ],
   "source": [
    "# An interesting Case. How did our custom functin handle this.\n",
    "'Paris, Couvent du Sacré Coeur, and Issy-les-Moulineaux, spring 1908-late 1909'\n",
    "\n",
    "display(data[data['Date'] == 'Paris, Couvent du Sacré Coeur, and Issy-les-Moulineaux, spring 1908-late 1909'])\n",
    "display(data_Clean[data_Clean['Title'] == 'The Back (I)'])"
   ]
  },
  {
   "cell_type": "markdown",
   "metadata": {},
   "source": [
    "1908! which is what we expect AVG(1908+ 1909)=1908.5 which rounds to 1908"
   ]
  },
  {
   "cell_type": "code",
   "execution_count": 46,
   "metadata": {},
   "outputs": [
    {
     "data": {
      "text/plain": [
       "1908"
      ]
     },
     "execution_count": 46,
     "metadata": {},
     "output_type": "execute_result"
    }
   ],
   "source": [
    "round(1908.5)"
   ]
  },
  {
   "cell_type": "markdown",
   "metadata": {},
   "source": [
    "# Bonus data manupulation\n",
    "Because, I am unsure what are the rules when inputting multple artist we cannot be sure that each artist, beginDate, Enddate and Gender are in order. "
   ]
  },
  {
   "cell_type": "code",
   "execution_count": 171,
   "metadata": {},
   "outputs": [
    {
     "data": {
      "text/html": [
       "<div>\n",
       "<style scoped>\n",
       "    .dataframe tbody tr th:only-of-type {\n",
       "        vertical-align: middle;\n",
       "    }\n",
       "\n",
       "    .dataframe tbody tr th {\n",
       "        vertical-align: top;\n",
       "    }\n",
       "\n",
       "    .dataframe thead th {\n",
       "        text-align: right;\n",
       "    }\n",
       "</style>\n",
       "<table border=\"1\" class=\"dataframe\">\n",
       "  <thead>\n",
       "    <tr style=\"text-align: right;\">\n",
       "      <th></th>\n",
       "      <th>Title</th>\n",
       "      <th>Artist</th>\n",
       "      <th>Nationality</th>\n",
       "      <th>BeginDate</th>\n",
       "      <th>EndDate</th>\n",
       "      <th>Gender</th>\n",
       "      <th>Date</th>\n",
       "      <th>Department</th>\n",
       "    </tr>\n",
       "  </thead>\n",
       "  <tbody>\n",
       "    <tr>\n",
       "      <th>134833</th>\n",
       "      <td>Parkett no. 100/101</td>\n",
       "      <td>Various Artists, Nairy Baghramian, Sophie Call...</td>\n",
       "      <td>German French Italian South African German Ge...</td>\n",
       "      <td>0 1971 1953 1960 1953 1956 1961 1948 1946 1980...</td>\n",
       "      <td>0 0 0 0 0 0 0 0 0 0 0 0</td>\n",
       "      <td>Female Female Male Female Female Female Femal...</td>\n",
       "      <td>2017</td>\n",
       "      <td>Drawings &amp; Prints</td>\n",
       "    </tr>\n",
       "  </tbody>\n",
       "</table>\n",
       "</div>"
      ],
      "text/plain": [
       "                      Title  \\\n",
       "134833  Parkett no. 100/101   \n",
       "\n",
       "                                                   Artist  \\\n",
       "134833  Various Artists, Nairy Baghramian, Sophie Call...   \n",
       "\n",
       "                                              Nationality  \\\n",
       "134833   German French Italian South African German Ge...   \n",
       "\n",
       "                                                BeginDate  \\\n",
       "134833  0 1971 1953 1960 1953 1956 1961 1948 1946 1980...   \n",
       "\n",
       "                        EndDate  \\\n",
       "134833  0 0 0 0 0 0 0 0 0 0 0 0   \n",
       "\n",
       "                                                   Gender  Date  \\\n",
       "134833   Female Female Male Female Female Female Femal...  2017   \n",
       "\n",
       "               Department  \n",
       "134833  Drawings & Prints  "
      ]
     },
     "metadata": {},
     "output_type": "display_data"
    }
   ],
   "source": [
    "display(for_later_manipulation )"
   ]
  },
  {
   "cell_type": "code",
   "execution_count": 180,
   "metadata": {},
   "outputs": [
    {
     "data": {
      "text/html": [
       "<div>\n",
       "<style scoped>\n",
       "    .dataframe tbody tr th:only-of-type {\n",
       "        vertical-align: middle;\n",
       "    }\n",
       "\n",
       "    .dataframe tbody tr th {\n",
       "        vertical-align: top;\n",
       "    }\n",
       "\n",
       "    .dataframe thead th {\n",
       "        text-align: right;\n",
       "    }\n",
       "</style>\n",
       "<table border=\"1\" class=\"dataframe\">\n",
       "  <thead>\n",
       "    <tr style=\"text-align: right;\">\n",
       "      <th></th>\n",
       "      <th>Title</th>\n",
       "      <th>Artist</th>\n",
       "      <th>Nationality</th>\n",
       "      <th>BeginDate</th>\n",
       "      <th>EndDate</th>\n",
       "      <th>Gender</th>\n",
       "      <th>Date</th>\n",
       "      <th>Department</th>\n",
       "    </tr>\n",
       "  </thead>\n",
       "  <tbody>\n",
       "    <tr>\n",
       "      <th>0</th>\n",
       "      <td>Parkett no. 100/101</td>\n",
       "      <td>Various Artists</td>\n",
       "      <td>German</td>\n",
       "      <td>0</td>\n",
       "      <td>0</td>\n",
       "      <td>Female</td>\n",
       "      <td>2017</td>\n",
       "      <td>Drawings &amp; Prints</td>\n",
       "    </tr>\n",
       "    <tr>\n",
       "      <th>1</th>\n",
       "      <td>Parkett no. 100/101</td>\n",
       "      <td>Nairy Baghramian</td>\n",
       "      <td>French</td>\n",
       "      <td>1971</td>\n",
       "      <td>0</td>\n",
       "      <td>Female</td>\n",
       "      <td>2017</td>\n",
       "      <td>Drawings &amp; Prints</td>\n",
       "    </tr>\n",
       "    <tr>\n",
       "      <th>2</th>\n",
       "      <td>Parkett no. 100/101</td>\n",
       "      <td>Sophie Calle</td>\n",
       "      <td>Italian</td>\n",
       "      <td>1953</td>\n",
       "      <td>0</td>\n",
       "      <td>Male</td>\n",
       "      <td>2017</td>\n",
       "      <td>Drawings &amp; Prints</td>\n",
       "    </tr>\n",
       "    <tr>\n",
       "      <th>3</th>\n",
       "      <td>Parkett no. 100/101</td>\n",
       "      <td>Maurizio Cattelan</td>\n",
       "      <td>South</td>\n",
       "      <td>1960</td>\n",
       "      <td>0</td>\n",
       "      <td>Female</td>\n",
       "      <td>2017</td>\n",
       "      <td>Drawings &amp; Prints</td>\n",
       "    </tr>\n",
       "    <tr>\n",
       "      <th>4</th>\n",
       "      <td>Parkett no. 100/101</td>\n",
       "      <td>Marlene Dumas</td>\n",
       "      <td>African</td>\n",
       "      <td>1953</td>\n",
       "      <td>0</td>\n",
       "      <td>Female</td>\n",
       "      <td>2017</td>\n",
       "      <td>Drawings &amp; Prints</td>\n",
       "    </tr>\n",
       "    <tr>\n",
       "      <th>5</th>\n",
       "      <td>Parkett no. 100/101</td>\n",
       "      <td>Katharina Fritsch</td>\n",
       "      <td>German</td>\n",
       "      <td>1956</td>\n",
       "      <td>0</td>\n",
       "      <td>Female</td>\n",
       "      <td>2017</td>\n",
       "      <td>Drawings &amp; Prints</td>\n",
       "    </tr>\n",
       "    <tr>\n",
       "      <th>6</th>\n",
       "      <td>Parkett no. 100/101</td>\n",
       "      <td>Katharina Grosse</td>\n",
       "      <td>German</td>\n",
       "      <td>1961</td>\n",
       "      <td>0</td>\n",
       "      <td>Female</td>\n",
       "      <td>2017</td>\n",
       "      <td>Drawings &amp; Prints</td>\n",
       "    </tr>\n",
       "    <tr>\n",
       "      <th>7</th>\n",
       "      <td>Parkett no. 100/101</td>\n",
       "      <td>Marilyn Minter</td>\n",
       "      <td>American</td>\n",
       "      <td>1948</td>\n",
       "      <td>0</td>\n",
       "      <td>Male</td>\n",
       "      <td>2017</td>\n",
       "      <td>Drawings &amp; Prints</td>\n",
       "    </tr>\n",
       "    <tr>\n",
       "      <th>8</th>\n",
       "      <td>Parkett no. 100/101</td>\n",
       "      <td>Jean-Luc Mylayne</td>\n",
       "      <td>French</td>\n",
       "      <td>1946</td>\n",
       "      <td>0</td>\n",
       "      <td>Male</td>\n",
       "      <td>2017</td>\n",
       "      <td>Drawings &amp; Prints</td>\n",
       "    </tr>\n",
       "    <tr>\n",
       "      <th>9</th>\n",
       "      <td>Parkett no. 100/101</td>\n",
       "      <td>Nicolas Party</td>\n",
       "      <td>Swiss</td>\n",
       "      <td>1980</td>\n",
       "      <td>0</td>\n",
       "      <td>Female</td>\n",
       "      <td>2017</td>\n",
       "      <td>Drawings &amp; Prints</td>\n",
       "    </tr>\n",
       "    <tr>\n",
       "      <th>10</th>\n",
       "      <td>Parkett no. 100/101</td>\n",
       "      <td>Pipilotti Rist</td>\n",
       "      <td>Swiss</td>\n",
       "      <td>1962</td>\n",
       "      <td>0</td>\n",
       "      <td>Male</td>\n",
       "      <td>2017</td>\n",
       "      <td>Drawings &amp; Prints</td>\n",
       "    </tr>\n",
       "    <tr>\n",
       "      <th>11</th>\n",
       "      <td>Parkett no. 100/101</td>\n",
       "      <td>Jordan Wolfson</td>\n",
       "      <td>American</td>\n",
       "      <td>1980</td>\n",
       "      <td>unknown</td>\n",
       "      <td>unknown</td>\n",
       "      <td>2017</td>\n",
       "      <td>Drawings &amp; Prints</td>\n",
       "    </tr>\n",
       "  </tbody>\n",
       "</table>\n",
       "</div>"
      ],
      "text/plain": [
       "                  Title             Artist Nationality BeginDate  EndDate  \\\n",
       "0   Parkett no. 100/101    Various Artists      German         0        0   \n",
       "1   Parkett no. 100/101   Nairy Baghramian      French      1971        0   \n",
       "2   Parkett no. 100/101       Sophie Calle     Italian      1953        0   \n",
       "3   Parkett no. 100/101  Maurizio Cattelan       South      1960        0   \n",
       "4   Parkett no. 100/101      Marlene Dumas     African      1953        0   \n",
       "5   Parkett no. 100/101  Katharina Fritsch      German      1956        0   \n",
       "6   Parkett no. 100/101   Katharina Grosse      German      1961        0   \n",
       "7   Parkett no. 100/101     Marilyn Minter    American      1948        0   \n",
       "8   Parkett no. 100/101   Jean-Luc Mylayne      French      1946        0   \n",
       "9   Parkett no. 100/101      Nicolas Party       Swiss      1980        0   \n",
       "10  Parkett no. 100/101     Pipilotti Rist       Swiss      1962        0   \n",
       "11  Parkett no. 100/101     Jordan Wolfson    American      1980  unknown   \n",
       "\n",
       "     Gender  Date         Department  \n",
       "0    Female  2017  Drawings & Prints  \n",
       "1    Female  2017  Drawings & Prints  \n",
       "2      Male  2017  Drawings & Prints  \n",
       "3    Female  2017  Drawings & Prints  \n",
       "4    Female  2017  Drawings & Prints  \n",
       "5    Female  2017  Drawings & Prints  \n",
       "6    Female  2017  Drawings & Prints  \n",
       "7      Male  2017  Drawings & Prints  \n",
       "8      Male  2017  Drawings & Prints  \n",
       "9    Female  2017  Drawings & Prints  \n",
       "10     Male  2017  Drawings & Prints  \n",
       "11  unknown  2017  Drawings & Prints  "
      ]
     },
     "metadata": {},
     "output_type": "display_data"
    }
   ],
   "source": [
    "def extract_artists(artists):\n",
    "    return [x.strip() for x in artists.split(',')]\n",
    "\n",
    "def extract_Nationality(Nationality):\n",
    "    return [x.strip() for x in Nationality.split()]\n",
    "\n",
    "def extract_BeginDate(BeginDate):\n",
    "    return  [x.strip() for x in BeginDate.split()]\n",
    "\n",
    "def extract_EndDate(EndDate):\n",
    "    return  [x.strip() for x in EndDate.split()[1:]]\n",
    "\n",
    "def extract_Gender(Gender):\n",
    "    return  [x.strip() for x in Gender.split()]\n",
    "\n",
    "def add_to_dictionary(index,row):\n",
    "    Dict_new_Items = {\n",
    "        \"Title\": [],\n",
    "        \"Artist\": [],\n",
    "        \"Nationality\" : [],\n",
    "        \"BeginDate\": [],\n",
    "        \"EndDate\" : [],\n",
    "        \"Gender\" : [],\n",
    "        \"Date\" : [],\n",
    "        \"Department\" : [],\n",
    "    \n",
    "    }\n",
    "    \n",
    "    Dict_new_Items[\"Artist\"] = extract_artists(row['Artist'])\n",
    "    Dict_new_Items[\"Nationality\"] = extract_Nationality(row['Nationality'])\n",
    "    Dict_new_Items[\"BeginDate\"] = extract_BeginDate(row['BeginDate'])\n",
    "    Dict_new_Items[\"EndDate\"] = extract_EndDate(row['EndDate'])\n",
    "    Dict_new_Items[\"Gender\"] = extract_Gender(row['Gender'])\n",
    "\n",
    "    # all these lists should be the same size\n",
    "    number_of_artist = len(Dict_new_Items[\"Artist\"])\n",
    "    for key in [\"Nationality\",\"BeginDate\",\"EndDate\",\"Gender\"]:\n",
    "\n",
    "        if len(Dict_new_Items[key]) < number_of_artist:\n",
    "\n",
    "            Dict_new_Items[key].append(\"unknown\")\n",
    "\n",
    "        elif len(Dict_new_Items[key]) > number_of_artist:\n",
    "            Dict_new_Items[key]=Dict_new_Items[key][0:number_of_artist]\n",
    "    # Ensure all lists are the same size\n",
    "    for i in list(range(number_of_artist)):\n",
    "        Dict_new_Items[\"Title\"].append(row['Title'])\n",
    "        Dict_new_Items[\"Date\"].append(row['Date'])\n",
    "        Dict_new_Items[\"Department\"].append(row['Department'])\n",
    "            \n",
    "                \n",
    "    return Dict_new_Items\n",
    "\n",
    "Clean_data_multiple_artist=pd.DataFrame(columns=['Title','Artist','Nationality','BeginDate','EndDate','Gender','Date','Department'])\n",
    "for index, row in for_later_manipulation.iterrows():\n",
    "    Clean_data_multiple_artist = Clean_data_multiple_artist.append(pd.DataFrame(add_to_dictionary(index,row)))\n",
    "    \n",
    "display(Clean_data_multiple_artist)\n"
   ]
  },
  {
   "cell_type": "markdown",
   "metadata": {},
   "source": [
    "To run add_to_dictionary, we iterate trough each row in the df. The function extracts the information it needs per row and appends it to Clean_data_multiple_artist when data cleaning methods have been completed "
   ]
  },
  {
   "cell_type": "markdown",
   "metadata": {},
   "source": [
    "We extracted every Artists name from a cell. Each artist lined up with a natinality. Whenever the number of EndDate and Gender did not match the number of Artist we input known.\n",
    "\n",
    "There are few things about this data. Various Artists does not look like a correct artist, but there are 12 Nationality that match with those 12 artists. Because I do not know what the rule is for inputting this data, I choose to ommit this from our original data cleaning which why it is here under Bonus."
   ]
  }
 ],
 "metadata": {
  "kernelspec": {
   "display_name": "Python 3",
   "language": "python",
   "name": "python3"
  },
  "language_info": {
   "codemirror_mode": {
    "name": "ipython",
    "version": 3
   },
   "file_extension": ".py",
   "mimetype": "text/x-python",
   "name": "python",
   "nbconvert_exporter": "python",
   "pygments_lexer": "ipython3",
   "version": "3.6.5"
  }
 },
 "nbformat": 4,
 "nbformat_minor": 2
}
