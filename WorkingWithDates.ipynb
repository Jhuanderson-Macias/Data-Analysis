{
 "cells": [
  {
   "cell_type": "code",
   "execution_count": 81,
   "metadata": {},
   "outputs": [],
   "source": [
    "import os\n",
    "import datetime as dt\n",
    "import pandas as pd\n",
    "os.getcwd()\n",
    "data=pd.read_csv(os.getcwd() + '/potus_visitors_2015.csv', encoding=\"latin1\")"
   ]
  },
  {
   "cell_type": "code",
   "execution_count": 82,
   "metadata": {},
   "outputs": [
    {
     "data": {
      "text/html": [
       "<div>\n",
       "<style scoped>\n",
       "    .dataframe tbody tr th:only-of-type {\n",
       "        vertical-align: middle;\n",
       "    }\n",
       "\n",
       "    .dataframe tbody tr th {\n",
       "        vertical-align: top;\n",
       "    }\n",
       "\n",
       "    .dataframe thead th {\n",
       "        text-align: right;\n",
       "    }\n",
       "</style>\n",
       "<table border=\"1\" class=\"dataframe\">\n",
       "  <thead>\n",
       "    <tr style=\"text-align: right;\">\n",
       "      <th></th>\n",
       "      <th>name</th>\n",
       "      <th>appt_made_date</th>\n",
       "      <th>appt_start_date</th>\n",
       "      <th>appt_end_date</th>\n",
       "      <th>visitee_namelast</th>\n",
       "      <th>visitee_namefirst</th>\n",
       "      <th>meeting_room</th>\n",
       "      <th>description</th>\n",
       "    </tr>\n",
       "  </thead>\n",
       "  <tbody>\n",
       "    <tr>\n",
       "      <th>0</th>\n",
       "      <td>Joshua T. Blanton</td>\n",
       "      <td>2014-12-18T00:00:00</td>\n",
       "      <td>1/6/15 9:30</td>\n",
       "      <td>1/6/15 23:59</td>\n",
       "      <td>NaN</td>\n",
       "      <td>potus</td>\n",
       "      <td>west wing</td>\n",
       "      <td>JointService Military Honor Guard</td>\n",
       "    </tr>\n",
       "    <tr>\n",
       "      <th>1</th>\n",
       "      <td>Jack T. Gutting</td>\n",
       "      <td>2014-12-18T00:00:00</td>\n",
       "      <td>1/6/15 9:30</td>\n",
       "      <td>1/6/15 23:59</td>\n",
       "      <td>NaN</td>\n",
       "      <td>potus</td>\n",
       "      <td>west wing</td>\n",
       "      <td>JointService Military Honor Guard</td>\n",
       "    </tr>\n",
       "    <tr>\n",
       "      <th>2</th>\n",
       "      <td>Bradley T. Guiles</td>\n",
       "      <td>2014-12-18T00:00:00</td>\n",
       "      <td>1/6/15 9:30</td>\n",
       "      <td>1/6/15 23:59</td>\n",
       "      <td>NaN</td>\n",
       "      <td>potus</td>\n",
       "      <td>west wing</td>\n",
       "      <td>JointService Military Honor Guard</td>\n",
       "    </tr>\n",
       "    <tr>\n",
       "      <th>3</th>\n",
       "      <td>Loryn F. Grieb</td>\n",
       "      <td>2014-12-18T00:00:00</td>\n",
       "      <td>1/6/15 9:30</td>\n",
       "      <td>1/6/15 23:59</td>\n",
       "      <td>NaN</td>\n",
       "      <td>potus</td>\n",
       "      <td>west wing</td>\n",
       "      <td>JointService Military Honor Guard</td>\n",
       "    </tr>\n",
       "    <tr>\n",
       "      <th>4</th>\n",
       "      <td>Travis D. Gordon</td>\n",
       "      <td>2014-12-18T00:00:00</td>\n",
       "      <td>1/6/15 9:30</td>\n",
       "      <td>1/6/15 23:59</td>\n",
       "      <td>NaN</td>\n",
       "      <td>potus</td>\n",
       "      <td>west wing</td>\n",
       "      <td>JointService Military Honor Guard</td>\n",
       "    </tr>\n",
       "  </tbody>\n",
       "</table>\n",
       "</div>"
      ],
      "text/plain": [
       "                name       appt_made_date appt_start_date appt_end_date  \\\n",
       "0  Joshua T. Blanton  2014-12-18T00:00:00     1/6/15 9:30  1/6/15 23:59   \n",
       "1    Jack T. Gutting  2014-12-18T00:00:00     1/6/15 9:30  1/6/15 23:59   \n",
       "2  Bradley T. Guiles  2014-12-18T00:00:00     1/6/15 9:30  1/6/15 23:59   \n",
       "3     Loryn F. Grieb  2014-12-18T00:00:00     1/6/15 9:30  1/6/15 23:59   \n",
       "4   Travis D. Gordon  2014-12-18T00:00:00     1/6/15 9:30  1/6/15 23:59   \n",
       "\n",
       "  visitee_namelast visitee_namefirst meeting_room  \\\n",
       "0              NaN             potus    west wing   \n",
       "1              NaN             potus    west wing   \n",
       "2              NaN             potus    west wing   \n",
       "3              NaN             potus    west wing   \n",
       "4              NaN             potus    west wing   \n",
       "\n",
       "                         description  \n",
       "0  JointService Military Honor Guard  \n",
       "1  JointService Military Honor Guard  \n",
       "2  JointService Military Honor Guard  \n",
       "3  JointService Military Honor Guard  \n",
       "4  JointService Military Honor Guard  "
      ]
     },
     "execution_count": 82,
     "metadata": {},
     "output_type": "execute_result"
    }
   ],
   "source": [
    "data.head()"
   ]
  },
  {
   "cell_type": "raw",
   "metadata": {},
   "source": [
    "appt_made_date - The date and time that the appointment was created\n",
    "appt_start_date - The date and time that the appointment was scheduled to start\n",
    "appt_end_date - The date and time that the appointment was scheduled to end\n",
    "visitee_namelast - The first name of the visitee (the person the visitor was meeting with)\n",
    "visitee_namefirst - The last nameof the visitee\n",
    "meeting_room - The room in which the appointment was scheduled\n",
    "description - Optional comments added by the WAVES operator\n"
   ]
  },
  {
   "cell_type": "raw",
   "metadata": {},
   "source": [
    "While working with dates will we perform the following tasks\n",
    "    Calculate the month with the most visitors\n",
    "    Calculate the most common time that visits occurred\n",
    "    Calculate summary statistics on visit length and how far ahead visits are booked\n",
    "    Produce neatly formatted summaries of daily visits\n"
   ]
  },
  {
   "cell_type": "raw",
   "metadata": {},
   "source": [
    "Before we start, I am going to make sure I know the format of the dates. m/dd/yyy vs dd/mm/yyy. \n",
    "appt_made_date - > mnm/dd/yy\n",
    "\n",
    "For the next two date columns, I am going to find a date that is ambigious (i.e A date 13)\n",
    "I am going to look at the tail, before trying anything t0o ocomplicated. "
   ]
  },
  {
   "cell_type": "code",
   "execution_count": 83,
   "metadata": {},
   "outputs": [
    {
     "data": {
      "text/html": [
       "<div>\n",
       "<style scoped>\n",
       "    .dataframe tbody tr th:only-of-type {\n",
       "        vertical-align: middle;\n",
       "    }\n",
       "\n",
       "    .dataframe tbody tr th {\n",
       "        vertical-align: top;\n",
       "    }\n",
       "\n",
       "    .dataframe thead th {\n",
       "        text-align: right;\n",
       "    }\n",
       "</style>\n",
       "<table border=\"1\" class=\"dataframe\">\n",
       "  <thead>\n",
       "    <tr style=\"text-align: right;\">\n",
       "      <th></th>\n",
       "      <th>name</th>\n",
       "      <th>appt_made_date</th>\n",
       "      <th>appt_start_date</th>\n",
       "      <th>appt_end_date</th>\n",
       "      <th>visitee_namelast</th>\n",
       "      <th>visitee_namefirst</th>\n",
       "      <th>meeting_room</th>\n",
       "      <th>description</th>\n",
       "    </tr>\n",
       "  </thead>\n",
       "  <tbody>\n",
       "    <tr>\n",
       "      <th>47949</th>\n",
       "      <td>William B. Henline</td>\n",
       "      <td>2015-12-16T00:00:00</td>\n",
       "      <td>12/18/15 16:30</td>\n",
       "      <td>12/18/15 23:59</td>\n",
       "      <td>NaN</td>\n",
       "      <td>POTUS/FLOTUS</td>\n",
       "      <td>State Floo</td>\n",
       "      <td>NaN</td>\n",
       "    </tr>\n",
       "    <tr>\n",
       "      <th>47950</th>\n",
       "      <td>Ian T. Burris</td>\n",
       "      <td>2015-12-16T00:00:00</td>\n",
       "      <td>12/18/15 16:30</td>\n",
       "      <td>12/18/15 23:59</td>\n",
       "      <td>NaN</td>\n",
       "      <td>POTUS/FLOTUS</td>\n",
       "      <td>State Floo</td>\n",
       "      <td>NaN</td>\n",
       "    </tr>\n",
       "    <tr>\n",
       "      <th>47951</th>\n",
       "      <td>James F. Albaugh</td>\n",
       "      <td>2015-12-16T00:00:00</td>\n",
       "      <td>12/18/15 16:30</td>\n",
       "      <td>12/18/15 23:59</td>\n",
       "      <td>NaN</td>\n",
       "      <td>POTUS/FLOTUS</td>\n",
       "      <td>State Floo</td>\n",
       "      <td>NaN</td>\n",
       "    </tr>\n",
       "    <tr>\n",
       "      <th>47952</th>\n",
       "      <td>Jackie L. Finken</td>\n",
       "      <td>2015-12-16T00:00:00</td>\n",
       "      <td>12/18/15 16:30</td>\n",
       "      <td>12/18/15 23:59</td>\n",
       "      <td>NaN</td>\n",
       "      <td>POTUS/FLOTUS</td>\n",
       "      <td>State Floo</td>\n",
       "      <td>NaN</td>\n",
       "    </tr>\n",
       "    <tr>\n",
       "      <th>47953</th>\n",
       "      <td>Grace M. Bauman</td>\n",
       "      <td>2015-12-16T00:00:00</td>\n",
       "      <td>12/18/15 16:30</td>\n",
       "      <td>12/18/15 23:59</td>\n",
       "      <td>NaN</td>\n",
       "      <td>POTUS/FLOTUS</td>\n",
       "      <td>State Floo</td>\n",
       "      <td>NaN</td>\n",
       "    </tr>\n",
       "  </tbody>\n",
       "</table>\n",
       "</div>"
      ],
      "text/plain": [
       "                     name       appt_made_date appt_start_date  \\\n",
       "47949  William B. Henline  2015-12-16T00:00:00  12/18/15 16:30   \n",
       "47950       Ian T. Burris  2015-12-16T00:00:00  12/18/15 16:30   \n",
       "47951    James F. Albaugh  2015-12-16T00:00:00  12/18/15 16:30   \n",
       "47952    Jackie L. Finken  2015-12-16T00:00:00  12/18/15 16:30   \n",
       "47953     Grace M. Bauman  2015-12-16T00:00:00  12/18/15 16:30   \n",
       "\n",
       "        appt_end_date visitee_namelast visitee_namefirst meeting_room  \\\n",
       "47949  12/18/15 23:59              NaN      POTUS/FLOTUS   State Floo   \n",
       "47950  12/18/15 23:59              NaN      POTUS/FLOTUS   State Floo   \n",
       "47951  12/18/15 23:59              NaN      POTUS/FLOTUS   State Floo   \n",
       "47952  12/18/15 23:59              NaN      POTUS/FLOTUS   State Floo   \n",
       "47953  12/18/15 23:59              NaN      POTUS/FLOTUS   State Floo   \n",
       "\n",
       "      description  \n",
       "47949         NaN  \n",
       "47950         NaN  \n",
       "47951         NaN  \n",
       "47952         NaN  \n",
       "47953         NaN  "
      ]
     },
     "execution_count": 83,
     "metadata": {},
     "output_type": "execute_result"
    }
   ],
   "source": [
    "data.tail()"
   ]
  },
  {
   "cell_type": "raw",
   "metadata": {},
   "source": [
    "By Looking at the tail tell the format of the dates.\n",
    "appt_start_date -> mm/dd/yy\n",
    "appt_end_date - > mm/dd/yy"
   ]
  },
  {
   "cell_type": "raw",
   "metadata": {},
   "source": [
    "#Convert applicable Columns to date time objects"
   ]
  },
  {
   "cell_type": "code",
   "execution_count": 88,
   "metadata": {},
   "outputs": [
    {
     "data": {
      "text/plain": [
       "pandas._libs.tslibs.timestamps.Timestamp"
      ]
     },
     "execution_count": 88,
     "metadata": {},
     "output_type": "execute_result"
    }
   ],
   "source": [
    "# currently they are strings\n",
    "type(data['appt_start_date'][1])"
   ]
  },
  {
   "cell_type": "code",
   "execution_count": 91,
   "metadata": {},
   "outputs": [],
   "source": [
    "for col in ['appt_start_date','appt_end_date']:\n",
    "    data[col] = pd.to_datetime(data[col], format='%m/%d/%y %H:%M')\n",
    "# appt_made_date has a different formate\n",
    "data['appt_made_date'] = pd.to_datetime(data['appt_made_date'], format='%Y-%m-%dT%H:%M:%S')\n",
    "type(data['appt_made_date'][1])"
   ]
  },
  {
   "cell_type": "code",
   "execution_count": 104,
   "metadata": {},
   "outputs": [
    {
     "data": {
      "text/plain": [
       "{'January , 2015': 1248,\n",
       " 'February , 2015': 2165,\n",
       " 'March , 2015': 2262,\n",
       " 'April , 2015': 4996,\n",
       " 'May , 2015': 3013,\n",
       " 'June , 2015': 7743,\n",
       " 'July , 2015': 2930,\n",
       " 'August , 2015': 1350,\n",
       " 'September , 2015': 4416,\n",
       " 'October , 2015': 3669,\n",
       " 'November , 2015': 1133,\n",
       " 'December , 2015': 13029}"
      ]
     },
     "execution_count": 104,
     "metadata": {},
     "output_type": "execute_result"
    }
   ],
   "source": [
    "# Create a month, year key and get number of vistors per month\n",
    "def month_year (date_series): \n",
    "    date_dict = {}\n",
    "    for i in date_series:\n",
    "        if i.strftime(\"%B , %Y\") not in date_dict:\n",
    "            date_dict[i.strftime(\"%B , %Y\")] = 1\n",
    "        else:\n",
    "             date_dict[i.strftime(\"%B , %Y\")] =   date_dict[i.strftime(\"%B , %Y\")] + 1\n",
    "    return date_dict\n",
    "    \n",
    "month_year(data['appt_start_date'])\n"
   ]
  },
  {
   "cell_type": "raw",
   "metadata": {},
   "source": [
    "Let's create a frequency table of appointment times using time objects as keys, and then use the min() and max() functions to calculate the earliest and latest appointments."
   ]
  },
  {
   "cell_type": "code",
   "execution_count": 117,
   "metadata": {},
   "outputs": [
    {
     "name": "stdout",
     "output_type": "stream",
     "text": [
      "Dict {'09:30': 1213, '10:00': 1543, '10:30': 696, '11:00': 783, '11:30': 357, '12:30': 1115, '09:00': 511, '19:00': 301, '10:55': 2, '12:00': 1041, '13:00': 1548, '13:30': 5897, '14:00': 996, '14:30': 921, '18:00': 8173, '15:30': 2855, '16:00': 2027, '15:00': 862, '10:20': 12, '17:15': 103, '11:45': 39, '12:05': 6, '14:15': 119, '14:55': 13, '12:15': 32, '17:00': 930, '17:20': 16, '17:30': 457, '08:30': 395, '16:30': 1144, '07:00': 1768, '07:30': 818, '08:00': 460, '15:45': 23, '17:45': 38, '18:30': 985, '19:15': 17, '19:30': 99, '20:00': 185, '20:30': 22, '16:15': 69, '15:20': 36, '14:10': 9, '14:45': 1434, '12:55': 1, '13:09': 1, '13:20': 36, '16:55': 5, '10:45': 347, '11:50': 4, '13:15': 272, '17:25': 24, '09:15': 6, '21:30': 9, '17:05': 6, '11:15': 3, '18:15': 390, '07:15': 40, '08:45': 249, '15:15': 3732, '18:20': 4, '18:22': 1, '18:23': 1, '18:33': 1, '18:42': 1, '09:45': 220, '11:20': 7, '16:45': 224, '12:45': 921, '15:05': 18, '15:08': 1, '12:11': 1, '12:22': 1, '12:24': 1, '12:27': 1, '13:48': 1, '13:52': 1, '13:55': 1, '14:03': 1, '14:09': 1, '16:20': 1, '06:00': 256, '07:35': 1, '07:59': 1, '08:06': 1, '08:22': 1, '08:35': 1, '19:03': 1, '15:23': 1, '15:55': 10, '14:50': 8, '13:35': 4, '15:25': 11, '13:50': 167, '13:45': 344, '14:12': 3, '12:50': 2, '12:56': 1, '12:59': 2, '13:05': 1, '13:18': 1, '13:25': 2, '13:40': 1, '13:47': 1, '10:10': 2, '10:15': 65, '10:25': 13, '12:32': 2, '12:40': 2, '12:46': 2, '13:10': 1, '16:40': 12, '21:00': 11, '17:40': 4, '17:50': 4, '17:55': 1, '17:57': 1, '17:59': 2, '18:05': 1, '18:45': 27, '12:20': 4, '16:10': 176, '15:28': 2, '15:35': 2, '15:52': 1, '15:54': 3, '15:58': 1, '16:06': 1, '16:22': 1, '16:35': 11, '11:25': 1, '18:50': 11, '19:45': 4, '20:15': 1, '09:35': 1, '16:25': 8, '14:59': 1, '15:04': 1, '15:07': 2, '15:10': 5, '15:16': 2, '15:19': 2, '15:27': 3, '15:40': 3, '15:49': 3, '15:53': 1, '14:20': 6, '17:35': 17, '14:49': 1, '16:50': 3, '11:42': 2, '17:10': 7, '14:07': 1, '06:30': 32, '18:40': 6, '18:52': 1, '15:17': 1, '19:20': 1, '15:50': 4, '14:18': 1, '15:01': 16, '16:46': 1, '14:25': 2, '18:04': 1, '18:13': 1, '18:25': 1, '18:28': 1, '18:35': 2, '18:55': 1, '18:57': 2, '14:40': 6, '18:07': 1, '18:26': 1, '18:27': 1, '19:05': 2, '19:10': 4, '19:50': 1, '20:10': 1}\n",
      "Earliest App. 06:00\n",
      "Latest Appt. 21:30\n"
     ]
    }
   ],
   "source": [
    "def hour_Min (date_series): \n",
    "    date_dict = {}\n",
    "    for i in date_series:\n",
    "        if i.strftime(\"%H:%M\") not in date_dict:\n",
    "            date_dict[i.strftime(\"%H:%M\")] = 1\n",
    "        else:\n",
    "             date_dict[i.strftime(\"%H:%M\")] =   date_dict[i.strftime(\"%H:%M\")] + 1\n",
    "    return date_dict, min(date_dict), max(date_dict)\n",
    "\n",
    "\n",
    "hour_min_dict = hour_Min(data['appt_start_date'])\n",
    "print('Dict {}'.format(hour_min_dict[0]))\n",
    "print('Earliest App. {}'.format(hour_min_dict[1]))\n",
    "print('Latest Appt. {}'.format(hour_min_dict[2]))\n",
    "\n"
   ]
  },
  {
   "cell_type": "code",
   "execution_count": 116,
   "metadata": {},
   "outputs": [
    {
     "data": {
      "text/plain": [
       "'09:30'"
      ]
     },
     "execution_count": 116,
     "metadata": {},
     "output_type": "execute_result"
    }
   ],
   "source": [
    "data['appt_start_date'][1].strftime(\"%H:%M\")"
   ]
  },
  {
   "cell_type": "raw",
   "metadata": {},
   "source": [
    "Calculate the length of each appointment:\n",
    "    Calculating the minimum value in the and assigning it to min_length\n",
    "    Calculating the maximum value in the and assigning it to max_length\n",
    "    Calculating the average value in the and assigning it to avg_length"
   ]
  },
  {
   "cell_type": "raw",
   "metadata": {},
   "source": [
    "data['length_of_meeting'] = data['appt_end_date'] - data['appt_start_date']\n",
    "data['length_of_meeting'].head()"
   ]
  },
  {
   "cell_type": "raw",
   "metadata": {},
   "source": [
    "When subtracting datetime objects we get a timedelta. Timedelta have a different orientation.\n"
   ]
  },
  {
   "cell_type": "code",
   "execution_count": 131,
   "metadata": {},
   "outputs": [
    {
     "name": "stdout",
     "output_type": "stream",
     "text": [
      "Min length 0 days 02:29:00\n",
      "Max length 16 days 12:59:00\n",
      "AVG length 0 days 10:36:55.675856\n"
     ]
    }
   ],
   "source": [
    "\n",
    "import numpy as np\n",
    "print('Min length {}'.format(min(data['length_of_meeting'])))\n",
    "print('Max length {}'.format(max(data['length_of_meeting'])))\n",
    "# avg can be calculated sum(list)/len(list)\n",
    "# I will use np.mean instead\n",
    "print('AVG length {}'.format(np.mean(data['length_of_meeting'])))\n"
   ]
  },
  {
   "cell_type": "raw",
   "metadata": {},
   "source": [
    "For curiousity lets explore the 16 days max app. length"
   ]
  },
  {
   "cell_type": "code",
   "execution_count": 136,
   "metadata": {},
   "outputs": [
    {
     "data": {
      "text/html": [
       "<div>\n",
       "<style scoped>\n",
       "    .dataframe tbody tr th:only-of-type {\n",
       "        vertical-align: middle;\n",
       "    }\n",
       "\n",
       "    .dataframe tbody tr th {\n",
       "        vertical-align: top;\n",
       "    }\n",
       "\n",
       "    .dataframe thead th {\n",
       "        text-align: right;\n",
       "    }\n",
       "</style>\n",
       "<table border=\"1\" class=\"dataframe\">\n",
       "  <thead>\n",
       "    <tr style=\"text-align: right;\">\n",
       "      <th></th>\n",
       "      <th>name</th>\n",
       "      <th>appt_made_date</th>\n",
       "      <th>appt_start_date</th>\n",
       "      <th>appt_end_date</th>\n",
       "      <th>visitee_namelast</th>\n",
       "      <th>visitee_namefirst</th>\n",
       "      <th>meeting_room</th>\n",
       "      <th>description</th>\n",
       "      <th>length_of_meeting</th>\n",
       "    </tr>\n",
       "  </thead>\n",
       "  <tbody>\n",
       "  </tbody>\n",
       "</table>\n",
       "</div>"
      ],
      "text/plain": [
       "Empty DataFrame\n",
       "Columns: [name, appt_made_date, appt_start_date, appt_end_date, visitee_namelast, visitee_namefirst, meeting_room, description, length_of_meeting]\n",
       "Index: []"
      ]
     },
     "execution_count": 136,
     "metadata": {},
     "output_type": "execute_result"
    }
   ],
   "source": [
    "data[data['length_of_meeting'] == dt.timedelta(days=16, hours=12, minutes=59)]\n",
    "\n",
    "#datetime.timedelta(days=0, seconds=0, microseconds=0,\n",
    " #                  milliseconds=0, minutes=0, hours=0, weeks=0)"
   ]
  },
  {
   "cell_type": "code",
   "execution_count": null,
   "metadata": {},
   "outputs": [],
   "source": []
  }
 ],
 "metadata": {
  "kernelspec": {
   "display_name": "Python 3",
   "language": "python",
   "name": "python3"
  },
  "language_info": {
   "codemirror_mode": {
    "name": "ipython",
    "version": 3
   },
   "file_extension": ".py",
   "mimetype": "text/x-python",
   "name": "python",
   "nbconvert_exporter": "python",
   "pygments_lexer": "ipython3",
   "version": "3.6.5"
  }
 },
 "nbformat": 4,
 "nbformat_minor": 2
}
